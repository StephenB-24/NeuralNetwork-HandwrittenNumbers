{
  "cells": [
    {
      "cell_type": "markdown",
      "metadata": {
        "id": "Cjehv4oFO2ZD"
      },
      "source": [
        "<h1>Handwritten Number Classification</h1>\n",
        "<i>Note: data in this notebook is obtained from the MNIST dataset.</i>\n",
        "\n",
        "_______________________________________________________________________"
      ]
    },
    {
      "cell_type": "markdown",
      "metadata": {
        "id": "y9-kGdMjO2ZF"
      },
      "source": [
        "<b>Goal:</b> given a handwritten number <i>x</i>, where <i>x >= 0</i> and <i>x <= 9</i>, correctly identify which number it is.\n",
        "_______________________________________________________________________"
      ]
    },
    {
      "cell_type": "markdown",
      "metadata": {
        "id": "m9ibJjmPO2ZF"
      },
      "source": [
        "Import the necessary packages:"
      ]
    },
    {
      "cell_type": "code",
      "execution_count": 76,
      "metadata": {
        "id": "MiB7WE_pO2ZG"
      },
      "outputs": [],
      "source": [
        "import sys, os\n",
        "import sklearn\n",
        "import numpy as np\n",
        "import pandas as pd\n",
        "import matplotlib as mpl\n",
        "import matplotlib.pyplot as plt\n",
        "import tensorflow as tf\n",
        "from tensorflow import keras"
      ]
    },
    {
      "cell_type": "code",
      "execution_count": 77,
      "metadata": {
        "id": "KnjBXU7nO2ZH"
      },
      "outputs": [],
      "source": [
        "# Ignore warnings\n",
        "import warnings\n",
        "warnings.filterwarnings(action=\"ignore\", message=\"^internal gelsd\")"
      ]
    },
    {
      "cell_type": "markdown",
      "source": [
        "As instructed, I will be using the MNIST dataset from keras. The dataset is one consisting of handwritten digits ranging from 0 through 9. The target class is then the correct number that the handwritten value was to represent, also from 0 through 9.\n",
        "\n",
        "Notice, the dataset has both training and test sets."
      ],
      "metadata": {
        "id": "_y9Km1LcPkmQ"
      }
    },
    {
      "cell_type": "code",
      "source": [
        "digits_mnist = keras.datasets.mnist\n",
        "(X_train_full, y_train_full), (X_test, y_test) = digits_mnist.load_data()"
      ],
      "metadata": {
        "id": "pHcNe8NlQJYx"
      },
      "execution_count": 78,
      "outputs": []
    },
    {
      "cell_type": "markdown",
      "source": [
        "The set is now in memory, let's have a look at it's type/shape:\n",
        "\n"
      ],
      "metadata": {
        "id": "x_Y9P0sKQ3Uk"
      }
    },
    {
      "cell_type": "code",
      "source": [
        "print(X_train_full.dtype)\n",
        "print(X_train_full.shape)"
      ],
      "metadata": {
        "colab": {
          "base_uri": "https://localhost:8080/"
        },
        "id": "CEAd1PYDQ8wj",
        "outputId": "350bd107-bf65-400e-aec2-2e4f184362ae"
      },
      "execution_count": 79,
      "outputs": [
        {
          "output_type": "stream",
          "name": "stdout",
          "text": [
            "uint8\n",
            "(60000, 28, 28)\n"
          ]
        }
      ]
    },
    {
      "cell_type": "code",
      "source": [
        "X_test.shape"
      ],
      "metadata": {
        "colab": {
          "base_uri": "https://localhost:8080/"
        },
        "id": "2TpXSSnWVwoe",
        "outputId": "3fc2d0bd-3b14-4d74-9114-da93b50df8dd"
      },
      "execution_count": 80,
      "outputs": [
        {
          "output_type": "execute_result",
          "data": {
            "text/plain": [
              "(10000, 28, 28)"
            ]
          },
          "metadata": {},
          "execution_count": 80
        }
      ]
    },
    {
      "cell_type": "markdown",
      "source": [
        "It appears this training set is one of 60,000 handwritten images, with the test set being a smaller 10,000 images in size. Each image is 28 by 28 \"pixels\" large, and each pixel is a byte (0-255) indicating the pressure of the \"ink\" at that pixel.\n",
        "\n",
        "Next, let's break a part of these 60,000 examples of the training set into a validation set, allowing us to skip doing cross validation.\n",
        "\n",
        "Each pixel will aslo be divided by 255 to normalize it from 0 to 1."
      ],
      "metadata": {
        "id": "KDvhfJcmRsdw"
      }
    },
    {
      "cell_type": "code",
      "source": [
        "X_valid, X_train = X_train_full[:5000] / 255., X_train_full[5000:] / 255.\n",
        "y_valid, y_train = y_train_full[:5000], y_train_full[5000:]\n",
        "X_test = X_test / 255."
      ],
      "metadata": {
        "id": "Vgx1vDfuR5JR"
      },
      "execution_count": 81,
      "outputs": []
    },
    {
      "cell_type": "markdown",
      "source": [
        "Since we are dealing with numbers, the y_train set can be left as is, and does not need to be transcribed into class names.\n",
        "\n",
        "Let's confirm the shape of our training, validation, and test sets."
      ],
      "metadata": {
        "id": "WVWoFv1PX9W3"
      }
    },
    {
      "cell_type": "code",
      "source": [
        "print(X_train.shape)\n",
        "print(X_valid.shape)\n",
        "print(X_test.shape)"
      ],
      "metadata": {
        "colab": {
          "base_uri": "https://localhost:8080/"
        },
        "id": "0gLnZpQHYrqb",
        "outputId": "2001a57f-32b2-4c99-c7e6-d7898ed60d20"
      },
      "execution_count": 82,
      "outputs": [
        {
          "output_type": "stream",
          "name": "stdout",
          "text": [
            "(55000, 28, 28)\n",
            "(5000, 28, 28)\n",
            "(10000, 28, 28)\n"
          ]
        }
      ]
    },
    {
      "cell_type": "markdown",
      "source": [
        "Let's take a look at each of the first 40 numbers to ensure the y_train value makes sense with the X_train handwritten image."
      ],
      "metadata": {
        "id": "C_NnwPysZIay"
      }
    },
    {
      "cell_type": "code",
      "source": [
        "n_rows = 4\n",
        "n_cols = 10\n",
        "plt.figure(figsize=(n_cols * 1.2, n_rows * 1.2))\n",
        "for row in range(n_rows):\n",
        "    for col in range(n_cols):\n",
        "        index = n_cols * row + col\n",
        "        plt.subplot(n_rows, n_cols, index + 1)\n",
        "        plt.imshow(X_train[index], cmap=\"binary\", interpolation=\"nearest\")\n",
        "        plt.axis('off')\n",
        "        plt.title(y_train[index], fontsize=12)\n",
        "plt.subplots_adjust(wspace=0.2, hspace=0.5)\n",
        "plt.show()"
      ],
      "metadata": {
        "colab": {
          "base_uri": "https://localhost:8080/",
          "height": 308
        },
        "id": "DvUaqc8PY956",
        "outputId": "86e44e80-04b6-4206-f418-bf40950639ec"
      },
      "execution_count": 83,
      "outputs": [
        {
          "output_type": "display_data",
          "data": {
            "image/png": "[encoded data removed]",
            "text/plain": [
              "<Figure size 864x345.6 with 40 Axes>"
            ]
          },
          "metadata": {
            "needs_background": "light"
          }
        }
      ]
    },
    {
      "cell_type": "markdown",
      "source": [
        "Everything is situated for the neural network.\n",
        "\n",
        "To begin, make a neural network of two hidden layers (with random seeds).\n",
        "*   We will begin with the first hidden layer being 300 neurons large, and then the second being 100 neurons large. Of course, the output is then 10 neurons large (for the 10 possible outputs). \n",
        "*   In this step, notice that we are flattening each image to a 1d array as well.\n",
        "\n",
        "\n",
        "*Note:* The neural network will be re-done later with different sizes to check the effect size has. The activation function of the hidden layers will also be tested."
      ],
      "metadata": {
        "id": "yap5N4Z4aAsz"
      }
    },
    {
      "cell_type": "code",
      "source": [
        "keras.backend.clear_session()\n",
        "np.random.seed(42)\n",
        "tf.random.set_seed(42)\n",
        "\n",
        "model = keras.models.Sequential()\n",
        "model.add(keras.layers.Flatten(input_shape=[28, 28]))\n",
        "model.add(keras.layers.Dense(300, activation=\"relu\"))\n",
        "model.add(keras.layers.Dense(100, activation=\"relu\"))\n",
        "model.add(keras.layers.Dense(10, activation=\"softmax\"))"
      ],
      "metadata": {
        "id": "vxMsgXG-aixS"
      },
      "execution_count": 84,
      "outputs": []
    },
    {
      "cell_type": "markdown",
      "source": [
        "Let's peak at the way this network looks in textual and visual form:"
      ],
      "metadata": {
        "id": "NgK_CTv0b9Jl"
      }
    },
    {
      "cell_type": "code",
      "source": [
        "print(model.summary())\n",
        "keras.utils.plot_model(model, \n",
        "                       \"handwritten_digits_mnist_model.png\",\n",
        "                       show_shapes=True)"
      ],
      "metadata": {
        "colab": {
          "base_uri": "https://localhost:8080/",
          "height": 845
        },
        "id": "9AjGfvf7ccR4",
        "outputId": "147e8bcc-20e3-4fb5-d832-25c59ddcaa70"
      },
      "execution_count": 85,
      "outputs": [
        {
          "output_type": "stream",
          "name": "stdout",
          "text": [
            "Model: \"sequential\"\n",
            "_________________________________________________________________\n",
            " Layer (type)                Output Shape              Param #   \n",
            "=================================================================\n",
            " flatten (Flatten)           (None, 784)               0         \n",
            "                                                                 \n",
            " dense (Dense)               (None, 300)               235500    \n",
            "                                                                 \n",
            " dense_1 (Dense)             (None, 100)               30100     \n",
            "                                                                 \n",
            " dense_2 (Dense)             (None, 10)                1010      \n",
            "                                                                 \n",
            "=================================================================\n",
            "Total params: 266,610\n",
            "Trainable params: 266,610\n",
            "Non-trainable params: 0\n",
            "_________________________________________________________________\n",
            "None\n"
          ]
        },
        {
          "output_type": "execute_result",
          "data": {
            "image/png": "[encoded data removed]",
            "text/plain": [
              "<IPython.core.display.Image object>"
            ]
          },
          "metadata": {},
          "execution_count": 85
        }
      ]
    },
    {
      "cell_type": "markdown",
      "source": [
        "Now we will specify metrics related to the loss function and optimizer to use.\n",
        "\n",
        "Due to sparse labels, we will use *sparse_categorical_crossentropy*.\n",
        "\n",
        "We will also use *stochastic gradient descent* with a learning rate of .01 and momentum 0.\n",
        "\n",
        "*Note:* the learning rate will be changed later to test it's effect."
      ],
      "metadata": {
        "id": "9iz-hX9wdArV"
      }
    },
    {
      "cell_type": "code",
      "source": [
        "model.compile(loss=\"sparse_categorical_crossentropy\",\n",
        "              optimizer=keras.optimizers.SGD(learning_rate=0.01,momentum=0.0),\n",
        "              metrics=[\"accuracy\"])"
      ],
      "metadata": {
        "id": "bCQdf-e1ezQr"
      },
      "execution_count": 86,
      "outputs": []
    },
    {
      "cell_type": "markdown",
      "source": [
        "Next we will fit the model, using a max of 30 epochs and a batch size of 32.\n",
        "\n",
        "*Note:* the number of epochs will be tested later to see their effect."
      ],
      "metadata": {
        "id": "iDzISBh4e_ZR"
      }
    },
    {
      "cell_type": "code",
      "source": [
        "history = model.fit(X_train, y_train, \n",
        "                    epochs=30,\n",
        "                    batch_size=32, \n",
        "                    validation_data=(X_valid, y_valid))"
      ],
      "metadata": {
        "colab": {
          "base_uri": "https://localhost:8080/"
        },
        "id": "O5xnVwIzfYHL",
        "outputId": "8ead31ce-f37c-4b61-f84e-8df2f53c3581"
      },
      "execution_count": 87,
      "outputs": [
        {
          "output_type": "stream",
          "name": "stdout",
          "text": [
            "Epoch 1/30\n",
            "1719/1719 [==============================] - 6s 3ms/step - loss: 0.6197 - accuracy: 0.8405 - val_loss: 0.3103 - val_accuracy: 0.9120\n",
            "Epoch 2/30\n",
            "1719/1719 [==============================] - 5s 3ms/step - loss: 0.2953 - accuracy: 0.9151 - val_loss: 0.2473 - val_accuracy: 0.9302\n",
            "Epoch 3/30\n",
            "1719/1719 [==============================] - 5s 3ms/step - loss: 0.2429 - accuracy: 0.9304 - val_loss: 0.2060 - val_accuracy: 0.9424\n",
            "Epoch 4/30\n",
            "1719/1719 [==============================] - 5s 3ms/step - loss: 0.2074 - accuracy: 0.9406 - val_loss: 0.1823 - val_accuracy: 0.9494\n",
            "Epoch 5/30\n",
            "1719/1719 [==============================] - 5s 3ms/step - loss: 0.1810 - accuracy: 0.9487 - val_loss: 0.1644 - val_accuracy: 0.9540\n",
            "Epoch 6/30\n",
            "1719/1719 [==============================] - 5s 3ms/step - loss: 0.1603 - accuracy: 0.9544 - val_loss: 0.1482 - val_accuracy: 0.9600\n",
            "Epoch 7/30\n",
            "1719/1719 [==============================] - 5s 3ms/step - loss: 0.1431 - accuracy: 0.9597 - val_loss: 0.1366 - val_accuracy: 0.9632\n",
            "Epoch 8/30\n",
            "1719/1719 [==============================] - 5s 3ms/step - loss: 0.1292 - accuracy: 0.9631 - val_loss: 0.1295 - val_accuracy: 0.9638\n",
            "Epoch 9/30\n",
            "1719/1719 [==============================] - 5s 3ms/step - loss: 0.1175 - accuracy: 0.9672 - val_loss: 0.1184 - val_accuracy: 0.9672\n",
            "Epoch 10/30\n",
            "1719/1719 [==============================] - 5s 3ms/step - loss: 0.1078 - accuracy: 0.9696 - val_loss: 0.1091 - val_accuracy: 0.9688\n",
            "Epoch 11/30\n",
            "1719/1719 [==============================] - 5s 3ms/step - loss: 0.0988 - accuracy: 0.9719 - val_loss: 0.1049 - val_accuracy: 0.9694\n",
            "Epoch 12/30\n",
            "1719/1719 [==============================] - 5s 3ms/step - loss: 0.0912 - accuracy: 0.9745 - val_loss: 0.1005 - val_accuracy: 0.9706\n",
            "Epoch 13/30\n",
            "1719/1719 [==============================] - 5s 3ms/step - loss: 0.0844 - accuracy: 0.9763 - val_loss: 0.0948 - val_accuracy: 0.9730\n",
            "Epoch 14/30\n",
            "1719/1719 [==============================] - 5s 3ms/step - loss: 0.0782 - accuracy: 0.9779 - val_loss: 0.0921 - val_accuracy: 0.9736\n",
            "Epoch 15/30\n",
            "1719/1719 [==============================] - 5s 3ms/step - loss: 0.0727 - accuracy: 0.9794 - val_loss: 0.0876 - val_accuracy: 0.9730\n",
            "Epoch 16/30\n",
            "1719/1719 [==============================] - 5s 3ms/step - loss: 0.0678 - accuracy: 0.9805 - val_loss: 0.0860 - val_accuracy: 0.9740\n",
            "Epoch 17/30\n",
            "1719/1719 [==============================] - 5s 3ms/step - loss: 0.0633 - accuracy: 0.9823 - val_loss: 0.0833 - val_accuracy: 0.9752\n",
            "Epoch 18/30\n",
            "1719/1719 [==============================] - 5s 3ms/step - loss: 0.0593 - accuracy: 0.9835 - val_loss: 0.0798 - val_accuracy: 0.9764\n",
            "Epoch 19/30\n",
            "1719/1719 [==============================] - 5s 3ms/step - loss: 0.0556 - accuracy: 0.9850 - val_loss: 0.0781 - val_accuracy: 0.9772\n",
            "Epoch 20/30\n",
            "1719/1719 [==============================] - 5s 3ms/step - loss: 0.0520 - accuracy: 0.9860 - val_loss: 0.0773 - val_accuracy: 0.9762\n",
            "Epoch 21/30\n",
            "1719/1719 [==============================] - 5s 3ms/step - loss: 0.0489 - accuracy: 0.9868 - val_loss: 0.0735 - val_accuracy: 0.9784\n",
            "Epoch 22/30\n",
            "1719/1719 [==============================] - 5s 3ms/step - loss: 0.0459 - accuracy: 0.9877 - val_loss: 0.0741 - val_accuracy: 0.9780\n",
            "Epoch 23/30\n",
            "1719/1719 [==============================] - 5s 3ms/step - loss: 0.0432 - accuracy: 0.9884 - val_loss: 0.0755 - val_accuracy: 0.9772\n",
            "Epoch 24/30\n",
            "1719/1719 [==============================] - 5s 3ms/step - loss: 0.0405 - accuracy: 0.9893 - val_loss: 0.0726 - val_accuracy: 0.9774\n",
            "Epoch 25/30\n",
            "1719/1719 [==============================] - 5s 3ms/step - loss: 0.0384 - accuracy: 0.9901 - val_loss: 0.0705 - val_accuracy: 0.9792\n",
            "Epoch 26/30\n",
            "1719/1719 [==============================] - 5s 3ms/step - loss: 0.0361 - accuracy: 0.9910 - val_loss: 0.0678 - val_accuracy: 0.9798\n",
            "Epoch 27/30\n",
            "1719/1719 [==============================] - 5s 3ms/step - loss: 0.0341 - accuracy: 0.9916 - val_loss: 0.0671 - val_accuracy: 0.9806\n",
            "Epoch 28/30\n",
            "1719/1719 [==============================] - 5s 3ms/step - loss: 0.0322 - accuracy: 0.9922 - val_loss: 0.0690 - val_accuracy: 0.9804\n",
            "Epoch 29/30\n",
            "1719/1719 [==============================] - 5s 3ms/step - loss: 0.0301 - accuracy: 0.9932 - val_loss: 0.0674 - val_accuracy: 0.9792\n",
            "Epoch 30/30\n",
            "1719/1719 [==============================] - 5s 3ms/step - loss: 0.0286 - accuracy: 0.9935 - val_loss: 0.0671 - val_accuracy: 0.9800\n"
          ]
        }
      ]
    },
    {
      "cell_type": "markdown",
      "source": [
        "Note, the final accuracy for this run is 98% on the validation set.\n",
        "\n",
        "Now we can graph the results of our training:"
      ],
      "metadata": {
        "id": "ueQAoeMCg05k"
      }
    },
    {
      "cell_type": "code",
      "source": [
        "pd.DataFrame(history.history).plot(figsize=(8, 5))\n",
        "plt.title(\"300->100->10 Neural Network, Alpha = .01, Epochs = 30, Batch Size = 32\")\n",
        "plt.grid(True)\n",
        "plt.gca().set_ylim(0, 1)\n",
        "plt.show()"
      ],
      "metadata": {
        "colab": {
          "base_uri": "https://localhost:8080/",
          "height": 336
        },
        "id": "HvS6cuNdfXEl",
        "outputId": "3377da50-b6e3-426c-8292-ab1e43851290"
      },
      "execution_count": 88,
      "outputs": [
        {
          "output_type": "display_data",
          "data": {
            "image/png": "[encoded data removed]",
            "text/plain": [
              "<Figure size 576x360 with 1 Axes>"
            ]
          },
          "metadata": {
            "needs_background": "light"
          }
        }
      ]
    },
    {
      "cell_type": "markdown",
      "source": [
        "First let's try adjusting the learning rate (alpha).\n",
        "\n",
        "I suspect that raising alpha slightly will better the results."
      ],
      "metadata": {
        "id": "Cu5Yylc5zCFe"
      }
    },
    {
      "cell_type": "code",
      "source": [
        "keras.backend.clear_session()\n",
        "np.random.seed(42)\n",
        "tf.random.set_seed(42)\n",
        "\n",
        "model = keras.models.Sequential()\n",
        "model.add(keras.layers.Flatten(input_shape=[28, 28]))\n",
        "model.add(keras.layers.Dense(300, activation=\"relu\"))\n",
        "model.add(keras.layers.Dense(100, activation=\"relu\"))\n",
        "model.add(keras.layers.Dense(10, activation=\"softmax\"))\n",
        "\n",
        "model.compile(loss=\"sparse_categorical_crossentropy\",\n",
        "              optimizer=keras.optimizers.SGD(learning_rate=0.1,momentum=0.0),\n",
        "              metrics=[\"accuracy\"])\n",
        "\n",
        "history = model.fit(X_train, y_train, \n",
        "                    epochs=30,\n",
        "                    batch_size=32, \n",
        "                    validation_data=(X_valid, y_valid))"
      ],
      "metadata": {
        "colab": {
          "base_uri": "https://localhost:8080/"
        },
        "id": "RbjC9GXq1H3r",
        "outputId": "1624f2c5-7005-4401-b49e-d090d29df73d"
      },
      "execution_count": 89,
      "outputs": [
        {
          "output_type": "stream",
          "name": "stdout",
          "text": [
            "Epoch 1/30\n",
            "1719/1719 [==============================] - 6s 3ms/step - loss: 0.2754 - accuracy: 0.9183 - val_loss: 0.1283 - val_accuracy: 0.9648\n",
            "Epoch 2/30\n",
            "1719/1719 [==============================] - 5s 3ms/step - loss: 0.1116 - accuracy: 0.9663 - val_loss: 0.0967 - val_accuracy: 0.9710\n",
            "Epoch 3/30\n",
            "1719/1719 [==============================] - 5s 3ms/step - loss: 0.0759 - accuracy: 0.9765 - val_loss: 0.0770 - val_accuracy: 0.9786\n",
            "Epoch 4/30\n",
            "1719/1719 [==============================] - 5s 3ms/step - loss: 0.0543 - accuracy: 0.9830 - val_loss: 0.0776 - val_accuracy: 0.9774\n",
            "Epoch 5/30\n",
            "1719/1719 [==============================] - 5s 3ms/step - loss: 0.0408 - accuracy: 0.9874 - val_loss: 0.0731 - val_accuracy: 0.9796\n",
            "Epoch 6/30\n",
            "1719/1719 [==============================] - 5s 3ms/step - loss: 0.0305 - accuracy: 0.9904 - val_loss: 0.0649 - val_accuracy: 0.9820\n",
            "Epoch 7/30\n",
            "1719/1719 [==============================] - 5s 3ms/step - loss: 0.0228 - accuracy: 0.9931 - val_loss: 0.0707 - val_accuracy: 0.9812\n",
            "Epoch 8/30\n",
            "1719/1719 [==============================] - 5s 3ms/step - loss: 0.0165 - accuracy: 0.9953 - val_loss: 0.0706 - val_accuracy: 0.9812\n",
            "Epoch 9/30\n",
            "1719/1719 [==============================] - 5s 3ms/step - loss: 0.0115 - accuracy: 0.9970 - val_loss: 0.0713 - val_accuracy: 0.9836\n",
            "Epoch 10/30\n",
            "1719/1719 [==============================] - 5s 3ms/step - loss: 0.0073 - accuracy: 0.9985 - val_loss: 0.0659 - val_accuracy: 0.9838\n",
            "Epoch 11/30\n",
            "1719/1719 [==============================] - 5s 3ms/step - loss: 0.0047 - accuracy: 0.9994 - val_loss: 0.0677 - val_accuracy: 0.9858\n",
            "Epoch 12/30\n",
            "1719/1719 [==============================] - 5s 3ms/step - loss: 0.0031 - accuracy: 0.9996 - val_loss: 0.0667 - val_accuracy: 0.9840\n",
            "Epoch 13/30\n",
            "1719/1719 [==============================] - 5s 3ms/step - loss: 0.0024 - accuracy: 0.9997 - val_loss: 0.0689 - val_accuracy: 0.9842\n",
            "Epoch 14/30\n",
            "1719/1719 [==============================] - 5s 3ms/step - loss: 0.0015 - accuracy: 1.0000 - val_loss: 0.0712 - val_accuracy: 0.9850\n",
            "Epoch 15/30\n",
            "1719/1719 [==============================] - 5s 3ms/step - loss: 0.0012 - accuracy: 1.0000 - val_loss: 0.0705 - val_accuracy: 0.9848\n",
            "Epoch 16/30\n",
            "1719/1719 [==============================] - 5s 3ms/step - loss: 9.1602e-04 - accuracy: 1.0000 - val_loss: 0.0709 - val_accuracy: 0.9858\n",
            "Epoch 17/30\n",
            "1719/1719 [==============================] - 5s 3ms/step - loss: 8.0444e-04 - accuracy: 1.0000 - val_loss: 0.0726 - val_accuracy: 0.9848\n",
            "Epoch 18/30\n",
            "1719/1719 [==============================] - 5s 3ms/step - loss: 6.8542e-04 - accuracy: 1.0000 - val_loss: 0.0727 - val_accuracy: 0.9850\n",
            "Epoch 19/30\n",
            "1719/1719 [==============================] - 5s 3ms/step - loss: 6.2194e-04 - accuracy: 1.0000 - val_loss: 0.0733 - val_accuracy: 0.9848\n",
            "Epoch 20/30\n",
            "1719/1719 [==============================] - 5s 3ms/step - loss: 5.6758e-04 - accuracy: 1.0000 - val_loss: 0.0740 - val_accuracy: 0.9852\n",
            "Epoch 21/30\n",
            "1719/1719 [==============================] - 5s 3ms/step - loss: 5.2889e-04 - accuracy: 1.0000 - val_loss: 0.0742 - val_accuracy: 0.9854\n",
            "Epoch 22/30\n",
            "1719/1719 [==============================] - 5s 3ms/step - loss: 4.8274e-04 - accuracy: 1.0000 - val_loss: 0.0751 - val_accuracy: 0.9848\n",
            "Epoch 23/30\n",
            "1719/1719 [==============================] - 5s 3ms/step - loss: 4.4615e-04 - accuracy: 1.0000 - val_loss: 0.0757 - val_accuracy: 0.9854\n",
            "Epoch 24/30\n",
            "1719/1719 [==============================] - 5s 3ms/step - loss: 4.1423e-04 - accuracy: 1.0000 - val_loss: 0.0764 - val_accuracy: 0.9856\n",
            "Epoch 25/30\n",
            "1719/1719 [==============================] - 5s 3ms/step - loss: 3.9045e-04 - accuracy: 1.0000 - val_loss: 0.0759 - val_accuracy: 0.9852\n",
            "Epoch 26/30\n",
            "1719/1719 [==============================] - 5s 3ms/step - loss: 3.6856e-04 - accuracy: 1.0000 - val_loss: 0.0767 - val_accuracy: 0.9860\n",
            "Epoch 27/30\n",
            "1719/1719 [==============================] - 5s 3ms/step - loss: 3.4880e-04 - accuracy: 1.0000 - val_loss: 0.0768 - val_accuracy: 0.9854\n",
            "Epoch 28/30\n",
            "1719/1719 [==============================] - 5s 3ms/step - loss: 3.2780e-04 - accuracy: 1.0000 - val_loss: 0.0775 - val_accuracy: 0.9852\n",
            "Epoch 29/30\n",
            "1719/1719 [==============================] - 5s 3ms/step - loss: 3.1168e-04 - accuracy: 1.0000 - val_loss: 0.0778 - val_accuracy: 0.9854\n",
            "Epoch 30/30\n",
            "1719/1719 [==============================] - 5s 3ms/step - loss: 2.9754e-04 - accuracy: 1.0000 - val_loss: 0.0781 - val_accuracy: 0.9850\n"
          ]
        }
      ]
    },
    {
      "cell_type": "markdown",
      "source": [
        "This got our training accuracy to be perfectly accurate. Our val_accuracy is still slightly off, and ended at 98.5%.\n",
        "\n",
        "For fun, let's try keeping the learning rate at .01 but then doing more epochs (100 instead of 30).\n"
      ],
      "metadata": {
        "id": "NeZh33do156m"
      }
    },
    {
      "cell_type": "code",
      "source": [
        "keras.backend.clear_session()\n",
        "np.random.seed(42)\n",
        "tf.random.set_seed(42)\n",
        "\n",
        "model = keras.models.Sequential()\n",
        "model.add(keras.layers.Flatten(input_shape=[28, 28]))\n",
        "model.add(keras.layers.Dense(300, activation=\"relu\"))\n",
        "model.add(keras.layers.Dense(100, activation=\"relu\"))\n",
        "model.add(keras.layers.Dense(10, activation=\"softmax\"))\n",
        "\n",
        "model.compile(loss=\"sparse_categorical_crossentropy\",\n",
        "              optimizer=keras.optimizers.SGD(learning_rate=0.1,momentum=0.0),\n",
        "              metrics=[\"accuracy\"])\n",
        "\n",
        "history = model.fit(X_train, y_train, \n",
        "                    epochs=100,\n",
        "                    batch_size=32, \n",
        "                    validation_data=(X_valid, y_valid))"
      ],
      "metadata": {
        "colab": {
          "base_uri": "https://localhost:8080/"
        },
        "id": "qCYep6IR4LGl",
        "outputId": "34c1c1da-7838-4ab4-986e-c1dd83deb869"
      },
      "execution_count": 90,
      "outputs": [
        {
          "output_type": "stream",
          "name": "stdout",
          "text": [
            "Epoch 1/100\n",
            "1719/1719 [==============================] - 5s 3ms/step - loss: 0.2754 - accuracy: 0.9183 - val_loss: 0.1283 - val_accuracy: 0.9648\n",
            "Epoch 2/100\n",
            "1719/1719 [==============================] - 5s 3ms/step - loss: 0.1116 - accuracy: 0.9663 - val_loss: 0.0967 - val_accuracy: 0.9710\n",
            "Epoch 3/100\n",
            "1719/1719 [==============================] - 5s 3ms/step - loss: 0.0759 - accuracy: 0.9765 - val_loss: 0.0770 - val_accuracy: 0.9786\n",
            "Epoch 4/100\n",
            "1719/1719 [==============================] - 5s 3ms/step - loss: 0.0543 - accuracy: 0.9830 - val_loss: 0.0776 - val_accuracy: 0.9774\n",
            "Epoch 5/100\n",
            "1719/1719 [==============================] - 5s 3ms/step - loss: 0.0408 - accuracy: 0.9874 - val_loss: 0.0731 - val_accuracy: 0.9796\n",
            "Epoch 6/100\n",
            "1719/1719 [==============================] - 5s 3ms/step - loss: 0.0305 - accuracy: 0.9904 - val_loss: 0.0649 - val_accuracy: 0.9820\n",
            "Epoch 7/100\n",
            "1719/1719 [==============================] - 5s 3ms/step - loss: 0.0228 - accuracy: 0.9931 - val_loss: 0.0707 - val_accuracy: 0.9812\n",
            "Epoch 8/100\n",
            "1719/1719 [==============================] - 5s 3ms/step - loss: 0.0165 - accuracy: 0.9953 - val_loss: 0.0706 - val_accuracy: 0.9812\n",
            "Epoch 9/100\n",
            "1719/1719 [==============================] - 5s 3ms/step - loss: 0.0115 - accuracy: 0.9970 - val_loss: 0.0713 - val_accuracy: 0.9836\n",
            "Epoch 10/100\n",
            "1719/1719 [==============================] - 5s 3ms/step - loss: 0.0073 - accuracy: 0.9985 - val_loss: 0.0659 - val_accuracy: 0.9838\n",
            "Epoch 11/100\n",
            "1719/1719 [==============================] - 5s 3ms/step - loss: 0.0047 - accuracy: 0.9994 - val_loss: 0.0677 - val_accuracy: 0.9858\n",
            "Epoch 12/100\n",
            "1719/1719 [==============================] - 5s 3ms/step - loss: 0.0031 - accuracy: 0.9996 - val_loss: 0.0667 - val_accuracy: 0.9840\n",
            "Epoch 13/100\n",
            "1719/1719 [==============================] - 5s 3ms/step - loss: 0.0024 - accuracy: 0.9997 - val_loss: 0.0689 - val_accuracy: 0.9842\n",
            "Epoch 14/100\n",
            "1719/1719 [==============================] - 5s 3ms/step - loss: 0.0015 - accuracy: 1.0000 - val_loss: 0.0712 - val_accuracy: 0.9850\n",
            "Epoch 15/100\n",
            "1719/1719 [==============================] - 5s 3ms/step - loss: 0.0012 - accuracy: 1.0000 - val_loss: 0.0705 - val_accuracy: 0.9848\n",
            "Epoch 16/100\n",
            "1719/1719 [==============================] - 5s 3ms/step - loss: 9.1602e-04 - accuracy: 1.0000 - val_loss: 0.0709 - val_accuracy: 0.9858\n",
            "Epoch 17/100\n",
            "1719/1719 [==============================] - 5s 3ms/step - loss: 8.0444e-04 - accuracy: 1.0000 - val_loss: 0.0726 - val_accuracy: 0.9848\n",
            "Epoch 18/100\n",
            "1719/1719 [==============================] - 5s 3ms/step - loss: 6.8542e-04 - accuracy: 1.0000 - val_loss: 0.0727 - val_accuracy: 0.9850\n",
            "Epoch 19/100\n",
            "1719/1719 [==============================] - 5s 3ms/step - loss: 6.2194e-04 - accuracy: 1.0000 - val_loss: 0.0733 - val_accuracy: 0.9848\n",
            "Epoch 20/100\n",
            "1719/1719 [==============================] - 5s 3ms/step - loss: 5.6758e-04 - accuracy: 1.0000 - val_loss: 0.0740 - val_accuracy: 0.9852\n",
            "Epoch 21/100\n",
            "1719/1719 [==============================] - 5s 3ms/step - loss: 5.2889e-04 - accuracy: 1.0000 - val_loss: 0.0742 - val_accuracy: 0.9854\n",
            "Epoch 22/100\n",
            "1719/1719 [==============================] - 5s 3ms/step - loss: 4.8274e-04 - accuracy: 1.0000 - val_loss: 0.0751 - val_accuracy: 0.9848\n",
            "Epoch 23/100\n",
            "1719/1719 [==============================] - 5s 3ms/step - loss: 4.4615e-04 - accuracy: 1.0000 - val_loss: 0.0757 - val_accuracy: 0.9854\n",
            "Epoch 24/100\n",
            "1719/1719 [==============================] - 5s 3ms/step - loss: 4.1423e-04 - accuracy: 1.0000 - val_loss: 0.0764 - val_accuracy: 0.9856\n",
            "Epoch 25/100\n",
            "1719/1719 [==============================] - 5s 3ms/step - loss: 3.9045e-04 - accuracy: 1.0000 - val_loss: 0.0759 - val_accuracy: 0.9852\n",
            "Epoch 26/100\n",
            "1719/1719 [==============================] - 5s 3ms/step - loss: 3.6856e-04 - accuracy: 1.0000 - val_loss: 0.0767 - val_accuracy: 0.9860\n",
            "Epoch 27/100\n",
            "1719/1719 [==============================] - 5s 3ms/step - loss: 3.4880e-04 - accuracy: 1.0000 - val_loss: 0.0768 - val_accuracy: 0.9854\n",
            "Epoch 28/100\n",
            "1719/1719 [==============================] - 5s 3ms/step - loss: 3.2780e-04 - accuracy: 1.0000 - val_loss: 0.0775 - val_accuracy: 0.9852\n",
            "Epoch 29/100\n",
            "1719/1719 [==============================] - 5s 3ms/step - loss: 3.1168e-04 - accuracy: 1.0000 - val_loss: 0.0778 - val_accuracy: 0.9854\n",
            "Epoch 30/100\n",
            "1719/1719 [==============================] - 5s 3ms/step - loss: 2.9754e-04 - accuracy: 1.0000 - val_loss: 0.0781 - val_accuracy: 0.9850\n",
            "Epoch 31/100\n",
            "1719/1719 [==============================] - 5s 3ms/step - loss: 2.8324e-04 - accuracy: 1.0000 - val_loss: 0.0784 - val_accuracy: 0.9856\n",
            "Epoch 32/100\n",
            "1719/1719 [==============================] - 5s 3ms/step - loss: 2.6967e-04 - accuracy: 1.0000 - val_loss: 0.0787 - val_accuracy: 0.9852\n",
            "Epoch 33/100\n",
            "1719/1719 [==============================] - 5s 3ms/step - loss: 2.5895e-04 - accuracy: 1.0000 - val_loss: 0.0788 - val_accuracy: 0.9858\n",
            "Epoch 34/100\n",
            "1719/1719 [==============================] - 5s 3ms/step - loss: 2.4766e-04 - accuracy: 1.0000 - val_loss: 0.0794 - val_accuracy: 0.9856\n",
            "Epoch 35/100\n",
            "1719/1719 [==============================] - 5s 3ms/step - loss: 2.3843e-04 - accuracy: 1.0000 - val_loss: 0.0795 - val_accuracy: 0.9856\n",
            "Epoch 36/100\n",
            "1719/1719 [==============================] - 5s 3ms/step - loss: 2.2850e-04 - accuracy: 1.0000 - val_loss: 0.0800 - val_accuracy: 0.9852\n",
            "Epoch 37/100\n",
            "1719/1719 [==============================] - 5s 3ms/step - loss: 2.2005e-04 - accuracy: 1.0000 - val_loss: 0.0802 - val_accuracy: 0.9860\n",
            "Epoch 38/100\n",
            "1719/1719 [==============================] - 5s 3ms/step - loss: 2.1247e-04 - accuracy: 1.0000 - val_loss: 0.0804 - val_accuracy: 0.9852\n",
            "Epoch 39/100\n",
            "1719/1719 [==============================] - 5s 3ms/step - loss: 2.0463e-04 - accuracy: 1.0000 - val_loss: 0.0803 - val_accuracy: 0.9852\n",
            "Epoch 40/100\n",
            "1719/1719 [==============================] - 5s 3ms/step - loss: 1.9801e-04 - accuracy: 1.0000 - val_loss: 0.0809 - val_accuracy: 0.9852\n",
            "Epoch 41/100\n",
            "1719/1719 [==============================] - 5s 3ms/step - loss: 1.9153e-04 - accuracy: 1.0000 - val_loss: 0.0810 - val_accuracy: 0.9854\n",
            "Epoch 42/100\n",
            "1719/1719 [==============================] - 5s 3ms/step - loss: 1.8537e-04 - accuracy: 1.0000 - val_loss: 0.0810 - val_accuracy: 0.9854\n",
            "Epoch 43/100\n",
            "1719/1719 [==============================] - 5s 3ms/step - loss: 1.7956e-04 - accuracy: 1.0000 - val_loss: 0.0817 - val_accuracy: 0.9858\n",
            "Epoch 44/100\n",
            "1719/1719 [==============================] - 5s 3ms/step - loss: 1.7459e-04 - accuracy: 1.0000 - val_loss: 0.0817 - val_accuracy: 0.9856\n",
            "Epoch 45/100\n",
            "1719/1719 [==============================] - 5s 3ms/step - loss: 1.6876e-04 - accuracy: 1.0000 - val_loss: 0.0819 - val_accuracy: 0.9856\n",
            "Epoch 46/100\n",
            "1719/1719 [==============================] - 5s 3ms/step - loss: 1.6406e-04 - accuracy: 1.0000 - val_loss: 0.0822 - val_accuracy: 0.9854\n",
            "Epoch 47/100\n",
            "1719/1719 [==============================] - 5s 3ms/step - loss: 1.5947e-04 - accuracy: 1.0000 - val_loss: 0.0822 - val_accuracy: 0.9856\n",
            "Epoch 48/100\n",
            "1719/1719 [==============================] - 5s 3ms/step - loss: 1.5501e-04 - accuracy: 1.0000 - val_loss: 0.0827 - val_accuracy: 0.9854\n",
            "Epoch 49/100\n",
            "1719/1719 [==============================] - 5s 3ms/step - loss: 1.5093e-04 - accuracy: 1.0000 - val_loss: 0.0827 - val_accuracy: 0.9856\n",
            "Epoch 50/100\n",
            "1719/1719 [==============================] - 5s 3ms/step - loss: 1.4692e-04 - accuracy: 1.0000 - val_loss: 0.0828 - val_accuracy: 0.9856\n",
            "Epoch 51/100\n",
            "1719/1719 [==============================] - 5s 3ms/step - loss: 1.4338e-04 - accuracy: 1.0000 - val_loss: 0.0831 - val_accuracy: 0.9856\n",
            "Epoch 52/100\n",
            "1719/1719 [==============================] - 5s 3ms/step - loss: 1.3979e-04 - accuracy: 1.0000 - val_loss: 0.0832 - val_accuracy: 0.9856\n",
            "Epoch 53/100\n",
            "1719/1719 [==============================] - 5s 3ms/step - loss: 1.3618e-04 - accuracy: 1.0000 - val_loss: 0.0834 - val_accuracy: 0.9856\n",
            "Epoch 54/100\n",
            "1719/1719 [==============================] - 5s 3ms/step - loss: 1.3299e-04 - accuracy: 1.0000 - val_loss: 0.0836 - val_accuracy: 0.9854\n",
            "Epoch 55/100\n",
            "1719/1719 [==============================] - 5s 3ms/step - loss: 1.2962e-04 - accuracy: 1.0000 - val_loss: 0.0839 - val_accuracy: 0.9856\n",
            "Epoch 56/100\n",
            "1719/1719 [==============================] - 5s 3ms/step - loss: 1.2690e-04 - accuracy: 1.0000 - val_loss: 0.0841 - val_accuracy: 0.9856\n",
            "Epoch 57/100\n",
            "1719/1719 [==============================] - 5s 3ms/step - loss: 1.2422e-04 - accuracy: 1.0000 - val_loss: 0.0841 - val_accuracy: 0.9856\n",
            "Epoch 58/100\n",
            "1719/1719 [==============================] - 5s 3ms/step - loss: 1.2108e-04 - accuracy: 1.0000 - val_loss: 0.0846 - val_accuracy: 0.9856\n",
            "Epoch 59/100\n",
            "1719/1719 [==============================] - 5s 3ms/step - loss: 1.1872e-04 - accuracy: 1.0000 - val_loss: 0.0844 - val_accuracy: 0.9856\n",
            "Epoch 60/100\n",
            "1719/1719 [==============================] - 5s 3ms/step - loss: 1.1609e-04 - accuracy: 1.0000 - val_loss: 0.0849 - val_accuracy: 0.9856\n",
            "Epoch 61/100\n",
            "1719/1719 [==============================] - 5s 3ms/step - loss: 1.1345e-04 - accuracy: 1.0000 - val_loss: 0.0849 - val_accuracy: 0.9856\n",
            "Epoch 62/100\n",
            "1719/1719 [==============================] - 5s 3ms/step - loss: 1.1128e-04 - accuracy: 1.0000 - val_loss: 0.0850 - val_accuracy: 0.9856\n",
            "Epoch 63/100\n",
            "1719/1719 [==============================] - 5s 3ms/step - loss: 1.0893e-04 - accuracy: 1.0000 - val_loss: 0.0851 - val_accuracy: 0.9854\n",
            "Epoch 64/100\n",
            "1719/1719 [==============================] - 6s 3ms/step - loss: 1.0659e-04 - accuracy: 1.0000 - val_loss: 0.0855 - val_accuracy: 0.9856\n",
            "Epoch 65/100\n",
            "1719/1719 [==============================] - 6s 3ms/step - loss: 1.0478e-04 - accuracy: 1.0000 - val_loss: 0.0857 - val_accuracy: 0.9856\n",
            "Epoch 66/100\n",
            "1719/1719 [==============================] - 6s 3ms/step - loss: 1.0281e-04 - accuracy: 1.0000 - val_loss: 0.0855 - val_accuracy: 0.9856\n",
            "Epoch 67/100\n",
            "1719/1719 [==============================] - 6s 3ms/step - loss: 1.0085e-04 - accuracy: 1.0000 - val_loss: 0.0858 - val_accuracy: 0.9854\n",
            "Epoch 68/100\n",
            "1719/1719 [==============================] - 6s 3ms/step - loss: 9.9014e-05 - accuracy: 1.0000 - val_loss: 0.0861 - val_accuracy: 0.9856\n",
            "Epoch 69/100\n",
            "1719/1719 [==============================] - 6s 3ms/step - loss: 9.7004e-05 - accuracy: 1.0000 - val_loss: 0.0862 - val_accuracy: 0.9856\n",
            "Epoch 70/100\n",
            "1719/1719 [==============================] - 6s 3ms/step - loss: 9.5429e-05 - accuracy: 1.0000 - val_loss: 0.0864 - val_accuracy: 0.9856\n",
            "Epoch 71/100\n",
            "1719/1719 [==============================] - 6s 3ms/step - loss: 9.3657e-05 - accuracy: 1.0000 - val_loss: 0.0863 - val_accuracy: 0.9856\n",
            "Epoch 72/100\n",
            "1719/1719 [==============================] - 5s 3ms/step - loss: 9.1990e-05 - accuracy: 1.0000 - val_loss: 0.0864 - val_accuracy: 0.9856\n",
            "Epoch 73/100\n",
            "1719/1719 [==============================] - 5s 3ms/step - loss: 9.0452e-05 - accuracy: 1.0000 - val_loss: 0.0865 - val_accuracy: 0.9856\n",
            "Epoch 74/100\n",
            "1719/1719 [==============================] - 5s 3ms/step - loss: 8.8915e-05 - accuracy: 1.0000 - val_loss: 0.0866 - val_accuracy: 0.9856\n",
            "Epoch 75/100\n",
            "1719/1719 [==============================] - 5s 3ms/step - loss: 8.7315e-05 - accuracy: 1.0000 - val_loss: 0.0868 - val_accuracy: 0.9856\n",
            "Epoch 76/100\n",
            "1719/1719 [==============================] - 5s 3ms/step - loss: 8.5937e-05 - accuracy: 1.0000 - val_loss: 0.0869 - val_accuracy: 0.9856\n",
            "Epoch 77/100\n",
            "1719/1719 [==============================] - 5s 3ms/step - loss: 8.4629e-05 - accuracy: 1.0000 - val_loss: 0.0871 - val_accuracy: 0.9856\n",
            "Epoch 78/100\n",
            "1719/1719 [==============================] - 5s 3ms/step - loss: 8.3153e-05 - accuracy: 1.0000 - val_loss: 0.0870 - val_accuracy: 0.9856\n",
            "Epoch 79/100\n",
            "1719/1719 [==============================] - 5s 3ms/step - loss: 8.1900e-05 - accuracy: 1.0000 - val_loss: 0.0872 - val_accuracy: 0.9856\n",
            "Epoch 80/100\n",
            "1719/1719 [==============================] - 5s 3ms/step - loss: 8.0552e-05 - accuracy: 1.0000 - val_loss: 0.0873 - val_accuracy: 0.9856\n",
            "Epoch 81/100\n",
            "1719/1719 [==============================] - 5s 3ms/step - loss: 7.9386e-05 - accuracy: 1.0000 - val_loss: 0.0875 - val_accuracy: 0.9856\n",
            "Epoch 82/100\n",
            "1719/1719 [==============================] - 5s 3ms/step - loss: 7.8170e-05 - accuracy: 1.0000 - val_loss: 0.0877 - val_accuracy: 0.9856\n",
            "Epoch 83/100\n",
            "1719/1719 [==============================] - 5s 3ms/step - loss: 7.6956e-05 - accuracy: 1.0000 - val_loss: 0.0877 - val_accuracy: 0.9856\n",
            "Epoch 84/100\n",
            "1719/1719 [==============================] - 5s 3ms/step - loss: 7.5677e-05 - accuracy: 1.0000 - val_loss: 0.0879 - val_accuracy: 0.9856\n",
            "Epoch 85/100\n",
            "1719/1719 [==============================] - 5s 3ms/step - loss: 7.4753e-05 - accuracy: 1.0000 - val_loss: 0.0880 - val_accuracy: 0.9856\n",
            "Epoch 86/100\n",
            "1719/1719 [==============================] - 5s 3ms/step - loss: 7.3575e-05 - accuracy: 1.0000 - val_loss: 0.0881 - val_accuracy: 0.9856\n",
            "Epoch 87/100\n",
            "1719/1719 [==============================] - 5s 3ms/step - loss: 7.2691e-05 - accuracy: 1.0000 - val_loss: 0.0883 - val_accuracy: 0.9856\n",
            "Epoch 88/100\n",
            "1719/1719 [==============================] - 5s 3ms/step - loss: 7.1474e-05 - accuracy: 1.0000 - val_loss: 0.0883 - val_accuracy: 0.9856\n",
            "Epoch 89/100\n",
            "1719/1719 [==============================] - 5s 3ms/step - loss: 7.0531e-05 - accuracy: 1.0000 - val_loss: 0.0885 - val_accuracy: 0.9856\n",
            "Epoch 90/100\n",
            "1719/1719 [==============================] - 5s 3ms/step - loss: 6.9602e-05 - accuracy: 1.0000 - val_loss: 0.0884 - val_accuracy: 0.9856\n",
            "Epoch 91/100\n",
            "1719/1719 [==============================] - 5s 3ms/step - loss: 6.8627e-05 - accuracy: 1.0000 - val_loss: 0.0886 - val_accuracy: 0.9856\n",
            "Epoch 92/100\n",
            "1719/1719 [==============================] - 5s 3ms/step - loss: 6.7717e-05 - accuracy: 1.0000 - val_loss: 0.0888 - val_accuracy: 0.9854\n",
            "Epoch 93/100\n",
            "1719/1719 [==============================] - 5s 3ms/step - loss: 6.6801e-05 - accuracy: 1.0000 - val_loss: 0.0889 - val_accuracy: 0.9856\n",
            "Epoch 94/100\n",
            "1719/1719 [==============================] - 5s 3ms/step - loss: 6.5881e-05 - accuracy: 1.0000 - val_loss: 0.0891 - val_accuracy: 0.9856\n",
            "Epoch 95/100\n",
            "1719/1719 [==============================] - 5s 3ms/step - loss: 6.5011e-05 - accuracy: 1.0000 - val_loss: 0.0890 - val_accuracy: 0.9856\n",
            "Epoch 96/100\n",
            "1719/1719 [==============================] - 5s 3ms/step - loss: 6.4243e-05 - accuracy: 1.0000 - val_loss: 0.0893 - val_accuracy: 0.9856\n",
            "Epoch 97/100\n",
            "1719/1719 [==============================] - 5s 3ms/step - loss: 6.3355e-05 - accuracy: 1.0000 - val_loss: 0.0892 - val_accuracy: 0.9856\n",
            "Epoch 98/100\n",
            "1719/1719 [==============================] - 5s 3ms/step - loss: 6.2514e-05 - accuracy: 1.0000 - val_loss: 0.0892 - val_accuracy: 0.9856\n",
            "Epoch 99/100\n",
            "1719/1719 [==============================] - 5s 3ms/step - loss: 6.1852e-05 - accuracy: 1.0000 - val_loss: 0.0893 - val_accuracy: 0.9856\n",
            "Epoch 100/100\n",
            "1719/1719 [==============================] - 5s 3ms/step - loss: 6.1035e-05 - accuracy: 1.0000 - val_loss: 0.0895 - val_accuracy: 0.9856\n"
          ]
        }
      ]
    },
    {
      "cell_type": "markdown",
      "source": [
        "There seems to be minimal (if any) benefit in doing this.\n",
        "\n",
        "As a final learning rate adjustment, let's try a learning rate between the two."
      ],
      "metadata": {
        "id": "ANpJ7fYJRO_0"
      }
    },
    {
      "cell_type": "code",
      "source": [
        "keras.backend.clear_session()\n",
        "np.random.seed(42)\n",
        "tf.random.set_seed(42)\n",
        "\n",
        "model = keras.models.Sequential()\n",
        "model.add(keras.layers.Flatten(input_shape=[28, 28]))\n",
        "model.add(keras.layers.Dense(300, activation=\"relu\"))\n",
        "model.add(keras.layers.Dense(100, activation=\"relu\"))\n",
        "model.add(keras.layers.Dense(10, activation=\"softmax\"))\n",
        "\n",
        "model.compile(loss=\"sparse_categorical_crossentropy\",\n",
        "              optimizer=keras.optimizers.SGD(learning_rate=0.05,momentum=0.0),\n",
        "              metrics=[\"accuracy\"])\n",
        "\n",
        "history = model.fit(X_train, y_train, \n",
        "                    epochs=100,\n",
        "                    batch_size=32, \n",
        "                    validation_data=(X_valid, y_valid))"
      ],
      "metadata": {
        "colab": {
          "base_uri": "https://localhost:8080/"
        },
        "id": "SEU4r3Bz6bSd",
        "outputId": "ea41181f-fd18-4764-e0f5-a32de4c8900d"
      },
      "execution_count": 91,
      "outputs": [
        {
          "output_type": "stream",
          "name": "stdout",
          "text": [
            "Epoch 1/100\n",
            "1719/1719 [==============================] - 5s 3ms/step - loss: 0.3415 - accuracy: 0.9026 - val_loss: 0.1697 - val_accuracy: 0.9540\n",
            "Epoch 2/100\n",
            "1719/1719 [==============================] - 5s 3ms/step - loss: 0.1503 - accuracy: 0.9567 - val_loss: 0.1222 - val_accuracy: 0.9626\n",
            "Epoch 3/100\n",
            "1719/1719 [==============================] - 5s 3ms/step - loss: 0.1041 - accuracy: 0.9697 - val_loss: 0.0911 - val_accuracy: 0.9752\n",
            "Epoch 4/100\n",
            "1719/1719 [==============================] - 5s 3ms/step - loss: 0.0777 - accuracy: 0.9771 - val_loss: 0.0823 - val_accuracy: 0.9764\n",
            "Epoch 5/100\n",
            "1719/1719 [==============================] - 5s 3ms/step - loss: 0.0612 - accuracy: 0.9823 - val_loss: 0.0781 - val_accuracy: 0.9772\n",
            "Epoch 6/100\n",
            "1719/1719 [==============================] - 5s 3ms/step - loss: 0.0484 - accuracy: 0.9854 - val_loss: 0.0678 - val_accuracy: 0.9808\n",
            "Epoch 7/100\n",
            "1719/1719 [==============================] - 5s 3ms/step - loss: 0.0386 - accuracy: 0.9887 - val_loss: 0.0750 - val_accuracy: 0.9768\n",
            "Epoch 8/100\n",
            "1719/1719 [==============================] - 5s 3ms/step - loss: 0.0309 - accuracy: 0.9915 - val_loss: 0.0704 - val_accuracy: 0.9786\n",
            "Epoch 9/100\n",
            "1719/1719 [==============================] - 5s 3ms/step - loss: 0.0253 - accuracy: 0.9931 - val_loss: 0.0670 - val_accuracy: 0.9820\n",
            "Epoch 10/100\n",
            "1719/1719 [==============================] - 5s 3ms/step - loss: 0.0205 - accuracy: 0.9947 - val_loss: 0.0601 - val_accuracy: 0.9828\n",
            "Epoch 11/100\n",
            "1719/1719 [==============================] - 5s 3ms/step - loss: 0.0160 - accuracy: 0.9963 - val_loss: 0.0649 - val_accuracy: 0.9838\n",
            "Epoch 12/100\n",
            "1719/1719 [==============================] - 5s 3ms/step - loss: 0.0128 - accuracy: 0.9975 - val_loss: 0.0684 - val_accuracy: 0.9798\n",
            "Epoch 13/100\n",
            "1719/1719 [==============================] - 5s 3ms/step - loss: 0.0101 - accuracy: 0.9984 - val_loss: 0.0734 - val_accuracy: 0.9818\n",
            "Epoch 14/100\n",
            "1719/1719 [==============================] - 5s 3ms/step - loss: 0.0079 - accuracy: 0.9990 - val_loss: 0.0652 - val_accuracy: 0.9848\n",
            "Epoch 15/100\n",
            "1719/1719 [==============================] - 5s 3ms/step - loss: 0.0068 - accuracy: 0.9990 - val_loss: 0.0668 - val_accuracy: 0.9828\n",
            "Epoch 16/100\n",
            "1719/1719 [==============================] - 5s 3ms/step - loss: 0.0055 - accuracy: 0.9994 - val_loss: 0.0661 - val_accuracy: 0.9846\n",
            "Epoch 17/100\n",
            "1719/1719 [==============================] - 5s 3ms/step - loss: 0.0043 - accuracy: 0.9997 - val_loss: 0.0679 - val_accuracy: 0.9846\n",
            "Epoch 18/100\n",
            "1719/1719 [==============================] - 5s 3ms/step - loss: 0.0035 - accuracy: 0.9998 - val_loss: 0.0670 - val_accuracy: 0.9836\n",
            "Epoch 19/100\n",
            "1719/1719 [==============================] - 5s 3ms/step - loss: 0.0029 - accuracy: 0.9999 - val_loss: 0.0684 - val_accuracy: 0.9842\n",
            "Epoch 20/100\n",
            "1719/1719 [==============================] - 5s 3ms/step - loss: 0.0026 - accuracy: 0.9999 - val_loss: 0.0685 - val_accuracy: 0.9832\n",
            "Epoch 21/100\n",
            "1719/1719 [==============================] - 5s 3ms/step - loss: 0.0023 - accuracy: 0.9999 - val_loss: 0.0689 - val_accuracy: 0.9846\n",
            "Epoch 22/100\n",
            "1719/1719 [==============================] - 5s 3ms/step - loss: 0.0019 - accuracy: 1.0000 - val_loss: 0.0727 - val_accuracy: 0.9832\n",
            "Epoch 23/100\n",
            "1719/1719 [==============================] - 5s 3ms/step - loss: 0.0017 - accuracy: 1.0000 - val_loss: 0.0703 - val_accuracy: 0.9848\n",
            "Epoch 24/100\n",
            "1719/1719 [==============================] - 5s 3ms/step - loss: 0.0015 - accuracy: 1.0000 - val_loss: 0.0718 - val_accuracy: 0.9846\n",
            "Epoch 25/100\n",
            "1719/1719 [==============================] - 5s 3ms/step - loss: 0.0014 - accuracy: 1.0000 - val_loss: 0.0704 - val_accuracy: 0.9832\n",
            "Epoch 26/100\n",
            "1719/1719 [==============================] - 5s 3ms/step - loss: 0.0013 - accuracy: 1.0000 - val_loss: 0.0716 - val_accuracy: 0.9848\n",
            "Epoch 27/100\n",
            "1719/1719 [==============================] - 5s 3ms/step - loss: 0.0012 - accuracy: 1.0000 - val_loss: 0.0719 - val_accuracy: 0.9840\n",
            "Epoch 28/100\n",
            "1719/1719 [==============================] - 5s 3ms/step - loss: 0.0011 - accuracy: 1.0000 - val_loss: 0.0722 - val_accuracy: 0.9838\n",
            "Epoch 29/100\n",
            "1719/1719 [==============================] - 5s 3ms/step - loss: 0.0010 - accuracy: 1.0000 - val_loss: 0.0727 - val_accuracy: 0.9844\n",
            "Epoch 30/100\n",
            "1719/1719 [==============================] - 5s 3ms/step - loss: 9.7758e-04 - accuracy: 1.0000 - val_loss: 0.0725 - val_accuracy: 0.9842\n",
            "Epoch 31/100\n",
            "1719/1719 [==============================] - 5s 3ms/step - loss: 9.1618e-04 - accuracy: 1.0000 - val_loss: 0.0733 - val_accuracy: 0.9844\n",
            "Epoch 32/100\n",
            "1719/1719 [==============================] - 5s 3ms/step - loss: 8.6095e-04 - accuracy: 1.0000 - val_loss: 0.0730 - val_accuracy: 0.9846\n",
            "Epoch 33/100\n",
            "1719/1719 [==============================] - 5s 3ms/step - loss: 8.1820e-04 - accuracy: 1.0000 - val_loss: 0.0735 - val_accuracy: 0.9846\n",
            "Epoch 34/100\n",
            "1719/1719 [==============================] - 5s 3ms/step - loss: 7.7620e-04 - accuracy: 1.0000 - val_loss: 0.0742 - val_accuracy: 0.9844\n",
            "Epoch 35/100\n",
            "1719/1719 [==============================] - 5s 3ms/step - loss: 7.4118e-04 - accuracy: 1.0000 - val_loss: 0.0745 - val_accuracy: 0.9844\n",
            "Epoch 36/100\n",
            "1719/1719 [==============================] - 5s 3ms/step - loss: 7.0109e-04 - accuracy: 1.0000 - val_loss: 0.0756 - val_accuracy: 0.9842\n",
            "Epoch 37/100\n",
            "1719/1719 [==============================] - 5s 3ms/step - loss: 6.7292e-04 - accuracy: 1.0000 - val_loss: 0.0747 - val_accuracy: 0.9848\n",
            "Epoch 38/100\n",
            "1719/1719 [==============================] - 5s 3ms/step - loss: 6.4336e-04 - accuracy: 1.0000 - val_loss: 0.0752 - val_accuracy: 0.9846\n",
            "Epoch 39/100\n",
            "1719/1719 [==============================] - 5s 3ms/step - loss: 6.1672e-04 - accuracy: 1.0000 - val_loss: 0.0751 - val_accuracy: 0.9840\n",
            "Epoch 40/100\n",
            "1719/1719 [==============================] - 5s 3ms/step - loss: 5.9069e-04 - accuracy: 1.0000 - val_loss: 0.0758 - val_accuracy: 0.9840\n",
            "Epoch 41/100\n",
            "1719/1719 [==============================] - 5s 3ms/step - loss: 5.6880e-04 - accuracy: 1.0000 - val_loss: 0.0757 - val_accuracy: 0.9844\n",
            "Epoch 42/100\n",
            "1719/1719 [==============================] - 5s 3ms/step - loss: 5.4824e-04 - accuracy: 1.0000 - val_loss: 0.0757 - val_accuracy: 0.9840\n",
            "Epoch 43/100\n",
            "1719/1719 [==============================] - 5s 3ms/step - loss: 5.2656e-04 - accuracy: 1.0000 - val_loss: 0.0770 - val_accuracy: 0.9846\n",
            "Epoch 44/100\n",
            "1719/1719 [==============================] - 5s 3ms/step - loss: 5.1026e-04 - accuracy: 1.0000 - val_loss: 0.0770 - val_accuracy: 0.9850\n",
            "Epoch 45/100\n",
            "1719/1719 [==============================] - 5s 3ms/step - loss: 4.8883e-04 - accuracy: 1.0000 - val_loss: 0.0770 - val_accuracy: 0.9848\n",
            "Epoch 46/100\n",
            "1719/1719 [==============================] - 5s 3ms/step - loss: 4.7462e-04 - accuracy: 1.0000 - val_loss: 0.0771 - val_accuracy: 0.9848\n",
            "Epoch 47/100\n",
            "1719/1719 [==============================] - 5s 3ms/step - loss: 4.5858e-04 - accuracy: 1.0000 - val_loss: 0.0770 - val_accuracy: 0.9844\n",
            "Epoch 48/100\n",
            "1719/1719 [==============================] - 5s 3ms/step - loss: 4.4383e-04 - accuracy: 1.0000 - val_loss: 0.0778 - val_accuracy: 0.9850\n",
            "Epoch 49/100\n",
            "1719/1719 [==============================] - 5s 3ms/step - loss: 4.2940e-04 - accuracy: 1.0000 - val_loss: 0.0777 - val_accuracy: 0.9850\n",
            "Epoch 50/100\n",
            "1719/1719 [==============================] - 5s 3ms/step - loss: 4.1679e-04 - accuracy: 1.0000 - val_loss: 0.0781 - val_accuracy: 0.9848\n",
            "Epoch 51/100\n",
            "1719/1719 [==============================] - 5s 3ms/step - loss: 4.0600e-04 - accuracy: 1.0000 - val_loss: 0.0784 - val_accuracy: 0.9848\n",
            "Epoch 52/100\n",
            "1719/1719 [==============================] - 5s 3ms/step - loss: 3.9422e-04 - accuracy: 1.0000 - val_loss: 0.0783 - val_accuracy: 0.9846\n",
            "Epoch 53/100\n",
            "1719/1719 [==============================] - 5s 3ms/step - loss: 3.8231e-04 - accuracy: 1.0000 - val_loss: 0.0785 - val_accuracy: 0.9846\n",
            "Epoch 54/100\n",
            "1719/1719 [==============================] - 5s 3ms/step - loss: 3.7330e-04 - accuracy: 1.0000 - val_loss: 0.0791 - val_accuracy: 0.9850\n",
            "Epoch 55/100\n",
            "1719/1719 [==============================] - 5s 3ms/step - loss: 3.6196e-04 - accuracy: 1.0000 - val_loss: 0.0789 - val_accuracy: 0.9848\n",
            "Epoch 56/100\n",
            "1719/1719 [==============================] - 5s 3ms/step - loss: 3.5296e-04 - accuracy: 1.0000 - val_loss: 0.0796 - val_accuracy: 0.9842\n",
            "Epoch 57/100\n",
            "1719/1719 [==============================] - 5s 3ms/step - loss: 3.4537e-04 - accuracy: 1.0000 - val_loss: 0.0794 - val_accuracy: 0.9848\n",
            "Epoch 58/100\n",
            "1719/1719 [==============================] - 5s 3ms/step - loss: 3.3497e-04 - accuracy: 1.0000 - val_loss: 0.0801 - val_accuracy: 0.9848\n",
            "Epoch 59/100\n",
            "1719/1719 [==============================] - 5s 3ms/step - loss: 3.2694e-04 - accuracy: 1.0000 - val_loss: 0.0799 - val_accuracy: 0.9848\n",
            "Epoch 60/100\n",
            "1719/1719 [==============================] - 5s 3ms/step - loss: 3.1968e-04 - accuracy: 1.0000 - val_loss: 0.0800 - val_accuracy: 0.9846\n",
            "Epoch 61/100\n",
            "1719/1719 [==============================] - 5s 3ms/step - loss: 3.1064e-04 - accuracy: 1.0000 - val_loss: 0.0804 - val_accuracy: 0.9846\n",
            "Epoch 62/100\n",
            "1719/1719 [==============================] - 5s 3ms/step - loss: 3.0450e-04 - accuracy: 1.0000 - val_loss: 0.0805 - val_accuracy: 0.9846\n",
            "Epoch 63/100\n",
            "1719/1719 [==============================] - 5s 3ms/step - loss: 2.9651e-04 - accuracy: 1.0000 - val_loss: 0.0806 - val_accuracy: 0.9850\n",
            "Epoch 64/100\n",
            "1719/1719 [==============================] - 5s 3ms/step - loss: 2.8964e-04 - accuracy: 1.0000 - val_loss: 0.0810 - val_accuracy: 0.9854\n",
            "Epoch 65/100\n",
            "1719/1719 [==============================] - 5s 3ms/step - loss: 2.8404e-04 - accuracy: 1.0000 - val_loss: 0.0810 - val_accuracy: 0.9848\n",
            "Epoch 66/100\n",
            "1719/1719 [==============================] - 5s 3ms/step - loss: 2.7826e-04 - accuracy: 1.0000 - val_loss: 0.0810 - val_accuracy: 0.9848\n",
            "Epoch 67/100\n",
            "1719/1719 [==============================] - 5s 3ms/step - loss: 2.7262e-04 - accuracy: 1.0000 - val_loss: 0.0815 - val_accuracy: 0.9848\n",
            "Epoch 68/100\n",
            "1719/1719 [==============================] - 5s 3ms/step - loss: 2.6715e-04 - accuracy: 1.0000 - val_loss: 0.0816 - val_accuracy: 0.9852\n",
            "Epoch 69/100\n",
            "1719/1719 [==============================] - 5s 3ms/step - loss: 2.6103e-04 - accuracy: 1.0000 - val_loss: 0.0816 - val_accuracy: 0.9852\n",
            "Epoch 70/100\n",
            "1719/1719 [==============================] - 5s 3ms/step - loss: 2.5629e-04 - accuracy: 1.0000 - val_loss: 0.0818 - val_accuracy: 0.9852\n",
            "Epoch 71/100\n",
            "1719/1719 [==============================] - 5s 3ms/step - loss: 2.5073e-04 - accuracy: 1.0000 - val_loss: 0.0819 - val_accuracy: 0.9850\n",
            "Epoch 72/100\n",
            "1719/1719 [==============================] - 5s 3ms/step - loss: 2.4596e-04 - accuracy: 1.0000 - val_loss: 0.0820 - val_accuracy: 0.9848\n",
            "Epoch 73/100\n",
            "1719/1719 [==============================] - 5s 3ms/step - loss: 2.4115e-04 - accuracy: 1.0000 - val_loss: 0.0819 - val_accuracy: 0.9848\n",
            "Epoch 74/100\n",
            "1719/1719 [==============================] - 5s 3ms/step - loss: 2.3676e-04 - accuracy: 1.0000 - val_loss: 0.0821 - val_accuracy: 0.9848\n",
            "Epoch 75/100\n",
            "1719/1719 [==============================] - 5s 3ms/step - loss: 2.3207e-04 - accuracy: 1.0000 - val_loss: 0.0821 - val_accuracy: 0.9848\n",
            "Epoch 76/100\n",
            "1719/1719 [==============================] - 5s 3ms/step - loss: 2.2816e-04 - accuracy: 1.0000 - val_loss: 0.0824 - val_accuracy: 0.9846\n",
            "Epoch 77/100\n",
            "1719/1719 [==============================] - 5s 3ms/step - loss: 2.2414e-04 - accuracy: 1.0000 - val_loss: 0.0825 - val_accuracy: 0.9844\n",
            "Epoch 78/100\n",
            "1719/1719 [==============================] - 5s 3ms/step - loss: 2.1982e-04 - accuracy: 1.0000 - val_loss: 0.0826 - val_accuracy: 0.9846\n",
            "Epoch 79/100\n",
            "1719/1719 [==============================] - 5s 3ms/step - loss: 2.1616e-04 - accuracy: 1.0000 - val_loss: 0.0827 - val_accuracy: 0.9844\n",
            "Epoch 80/100\n",
            "1719/1719 [==============================] - 5s 3ms/step - loss: 2.1225e-04 - accuracy: 1.0000 - val_loss: 0.0828 - val_accuracy: 0.9846\n",
            "Epoch 81/100\n",
            "1719/1719 [==============================] - 5s 3ms/step - loss: 2.0906e-04 - accuracy: 1.0000 - val_loss: 0.0830 - val_accuracy: 0.9848\n",
            "Epoch 82/100\n",
            "1719/1719 [==============================] - 5s 3ms/step - loss: 2.0544e-04 - accuracy: 1.0000 - val_loss: 0.0835 - val_accuracy: 0.9852\n",
            "Epoch 83/100\n",
            "1719/1719 [==============================] - 5s 3ms/step - loss: 2.0192e-04 - accuracy: 1.0000 - val_loss: 0.0831 - val_accuracy: 0.9850\n",
            "Epoch 84/100\n",
            "1719/1719 [==============================] - 5s 3ms/step - loss: 1.9826e-04 - accuracy: 1.0000 - val_loss: 0.0834 - val_accuracy: 0.9846\n",
            "Epoch 85/100\n",
            "1719/1719 [==============================] - 5s 3ms/step - loss: 1.9547e-04 - accuracy: 1.0000 - val_loss: 0.0835 - val_accuracy: 0.9848\n",
            "Epoch 86/100\n",
            "1719/1719 [==============================] - 5s 3ms/step - loss: 1.9244e-04 - accuracy: 1.0000 - val_loss: 0.0837 - val_accuracy: 0.9846\n",
            "Epoch 87/100\n",
            "1719/1719 [==============================] - 5s 3ms/step - loss: 1.8958e-04 - accuracy: 1.0000 - val_loss: 0.0840 - val_accuracy: 0.9846\n",
            "Epoch 88/100\n",
            "1719/1719 [==============================] - 5s 3ms/step - loss: 1.8611e-04 - accuracy: 1.0000 - val_loss: 0.0839 - val_accuracy: 0.9852\n",
            "Epoch 89/100\n",
            "1719/1719 [==============================] - 5s 3ms/step - loss: 1.8364e-04 - accuracy: 1.0000 - val_loss: 0.0840 - val_accuracy: 0.9846\n",
            "Epoch 90/100\n",
            "1719/1719 [==============================] - 5s 3ms/step - loss: 1.8083e-04 - accuracy: 1.0000 - val_loss: 0.0838 - val_accuracy: 0.9846\n",
            "Epoch 91/100\n",
            "1719/1719 [==============================] - 5s 3ms/step - loss: 1.7827e-04 - accuracy: 1.0000 - val_loss: 0.0843 - val_accuracy: 0.9848\n",
            "Epoch 92/100\n",
            "1719/1719 [==============================] - 5s 3ms/step - loss: 1.7556e-04 - accuracy: 1.0000 - val_loss: 0.0844 - val_accuracy: 0.9850\n",
            "Epoch 93/100\n",
            "1719/1719 [==============================] - 5s 3ms/step - loss: 1.7285e-04 - accuracy: 1.0000 - val_loss: 0.0846 - val_accuracy: 0.9854\n",
            "Epoch 94/100\n",
            "1719/1719 [==============================] - 5s 3ms/step - loss: 1.7038e-04 - accuracy: 1.0000 - val_loss: 0.0849 - val_accuracy: 0.9852\n",
            "Epoch 95/100\n",
            "1719/1719 [==============================] - 5s 3ms/step - loss: 1.6803e-04 - accuracy: 1.0000 - val_loss: 0.0845 - val_accuracy: 0.9850\n",
            "Epoch 96/100\n",
            "1719/1719 [==============================] - 5s 3ms/step - loss: 1.6570e-04 - accuracy: 1.0000 - val_loss: 0.0850 - val_accuracy: 0.9848\n",
            "Epoch 97/100\n",
            "1719/1719 [==============================] - 5s 3ms/step - loss: 1.6332e-04 - accuracy: 1.0000 - val_loss: 0.0849 - val_accuracy: 0.9848\n",
            "Epoch 98/100\n",
            "1719/1719 [==============================] - 5s 3ms/step - loss: 1.6091e-04 - accuracy: 1.0000 - val_loss: 0.0849 - val_accuracy: 0.9852\n",
            "Epoch 99/100\n",
            "1719/1719 [==============================] - 5s 3ms/step - loss: 1.5903e-04 - accuracy: 1.0000 - val_loss: 0.0848 - val_accuracy: 0.9850\n",
            "Epoch 100/100\n",
            "1719/1719 [==============================] - 5s 3ms/step - loss: 1.5680e-04 - accuracy: 1.0000 - val_loss: 0.0850 - val_accuracy: 0.9846\n"
          ]
        }
      ]
    },
    {
      "cell_type": "markdown",
      "source": [
        "Let's try changing the hidden later sizes to see how this affects the outcome\n",
        "\n",
        "First, let's decrease the first hidden layer down to the size of the second hidden layer."
      ],
      "metadata": {
        "id": "EhlsV70mrEv3"
      }
    },
    {
      "cell_type": "code",
      "source": [
        "keras.backend.clear_session()\n",
        "np.random.seed(42)\n",
        "tf.random.set_seed(42)\n",
        "\n",
        "model = keras.models.Sequential()\n",
        "model.add(keras.layers.Flatten(input_shape=[28, 28]))\n",
        "model.add(keras.layers.Dense(100, activation=\"relu\")) # Make the first layer smaller\n",
        "model.add(keras.layers.Dense(100, activation=\"relu\"))\n",
        "model.add(keras.layers.Dense(10, activation=\"softmax\"))\n",
        "\n",
        "model.compile(loss=\"sparse_categorical_crossentropy\",\n",
        "              optimizer=keras.optimizers.SGD(learning_rate=0.1,momentum=0.0),\n",
        "              metrics=[\"accuracy\"])\n",
        "\n",
        "history = model.fit(X_train, y_train, \n",
        "                    epochs=30,\n",
        "                    batch_size=32, \n",
        "                    validation_data=(X_valid, y_valid))"
      ],
      "metadata": {
        "colab": {
          "base_uri": "https://localhost:8080/"
        },
        "id": "-J3nL0_HrQ25",
        "outputId": "318f9b99-1363-4f79-f1bd-7371759ac9aa"
      },
      "execution_count": 92,
      "outputs": [
        {
          "output_type": "stream",
          "name": "stdout",
          "text": [
            "Epoch 1/30\n",
            "1719/1719 [==============================] - 4s 2ms/step - loss: 0.2910 - accuracy: 0.9120 - val_loss: 0.1458 - val_accuracy: 0.9586\n",
            "Epoch 2/30\n",
            "1719/1719 [==============================] - 3s 2ms/step - loss: 0.1303 - accuracy: 0.9600 - val_loss: 0.1123 - val_accuracy: 0.9676\n",
            "Epoch 3/30\n",
            "1719/1719 [==============================] - 3s 2ms/step - loss: 0.0927 - accuracy: 0.9713 - val_loss: 0.0916 - val_accuracy: 0.9746\n",
            "Epoch 4/30\n",
            "1719/1719 [==============================] - 3s 2ms/step - loss: 0.0692 - accuracy: 0.9787 - val_loss: 0.0866 - val_accuracy: 0.9738\n",
            "Epoch 5/30\n",
            "1719/1719 [==============================] - 3s 2ms/step - loss: 0.0574 - accuracy: 0.9819 - val_loss: 0.0840 - val_accuracy: 0.9738\n",
            "Epoch 6/30\n",
            "1719/1719 [==============================] - 3s 2ms/step - loss: 0.0460 - accuracy: 0.9855 - val_loss: 0.0768 - val_accuracy: 0.9774\n",
            "Epoch 7/30\n",
            "1719/1719 [==============================] - 3s 2ms/step - loss: 0.0377 - accuracy: 0.9882 - val_loss: 0.0840 - val_accuracy: 0.9766\n",
            "Epoch 8/30\n",
            "1719/1719 [==============================] - 3s 2ms/step - loss: 0.0297 - accuracy: 0.9905 - val_loss: 0.0912 - val_accuracy: 0.9732\n",
            "Epoch 9/30\n",
            "1719/1719 [==============================] - 3s 2ms/step - loss: 0.0245 - accuracy: 0.9921 - val_loss: 0.0798 - val_accuracy: 0.9800\n",
            "Epoch 10/30\n",
            "1719/1719 [==============================] - 3s 2ms/step - loss: 0.0197 - accuracy: 0.9938 - val_loss: 0.0794 - val_accuracy: 0.9786\n",
            "Epoch 11/30\n",
            "1719/1719 [==============================] - 3s 2ms/step - loss: 0.0171 - accuracy: 0.9949 - val_loss: 0.0849 - val_accuracy: 0.9774\n",
            "Epoch 12/30\n",
            "1719/1719 [==============================] - 3s 2ms/step - loss: 0.0130 - accuracy: 0.9961 - val_loss: 0.0838 - val_accuracy: 0.9792\n",
            "Epoch 13/30\n",
            "1719/1719 [==============================] - 3s 2ms/step - loss: 0.0104 - accuracy: 0.9971 - val_loss: 0.0831 - val_accuracy: 0.9800\n",
            "Epoch 14/30\n",
            "1719/1719 [==============================] - 3s 2ms/step - loss: 0.0078 - accuracy: 0.9981 - val_loss: 0.0818 - val_accuracy: 0.9818\n",
            "Epoch 15/30\n",
            "1719/1719 [==============================] - 3s 2ms/step - loss: 0.0052 - accuracy: 0.9990 - val_loss: 0.0851 - val_accuracy: 0.9786\n",
            "Epoch 16/30\n",
            "1719/1719 [==============================] - 3s 2ms/step - loss: 0.0036 - accuracy: 0.9994 - val_loss: 0.0856 - val_accuracy: 0.9798\n",
            "Epoch 17/30\n",
            "1719/1719 [==============================] - 3s 2ms/step - loss: 0.0032 - accuracy: 0.9995 - val_loss: 0.0841 - val_accuracy: 0.9802\n",
            "Epoch 18/30\n",
            "1719/1719 [==============================] - 3s 2ms/step - loss: 0.0020 - accuracy: 0.9998 - val_loss: 0.0841 - val_accuracy: 0.9806\n",
            "Epoch 19/30\n",
            "1719/1719 [==============================] - 3s 2ms/step - loss: 0.0015 - accuracy: 0.9999 - val_loss: 0.0830 - val_accuracy: 0.9816\n",
            "Epoch 20/30\n",
            "1719/1719 [==============================] - 3s 2ms/step - loss: 0.0011 - accuracy: 1.0000 - val_loss: 0.0839 - val_accuracy: 0.9826\n",
            "Epoch 21/30\n",
            "1719/1719 [==============================] - 3s 2ms/step - loss: 9.2732e-04 - accuracy: 1.0000 - val_loss: 0.0846 - val_accuracy: 0.9806\n",
            "Epoch 22/30\n",
            "1719/1719 [==============================] - 3s 2ms/step - loss: 7.9690e-04 - accuracy: 1.0000 - val_loss: 0.0861 - val_accuracy: 0.9810\n",
            "Epoch 23/30\n",
            "1719/1719 [==============================] - 3s 2ms/step - loss: 6.7985e-04 - accuracy: 1.0000 - val_loss: 0.0874 - val_accuracy: 0.9804\n",
            "Epoch 24/30\n",
            "1719/1719 [==============================] - 3s 2ms/step - loss: 6.0548e-04 - accuracy: 1.0000 - val_loss: 0.0873 - val_accuracy: 0.9806\n",
            "Epoch 25/30\n",
            "1719/1719 [==============================] - 3s 2ms/step - loss: 5.6471e-04 - accuracy: 1.0000 - val_loss: 0.0871 - val_accuracy: 0.9810\n",
            "Epoch 26/30\n",
            "1719/1719 [==============================] - 3s 2ms/step - loss: 5.2604e-04 - accuracy: 1.0000 - val_loss: 0.0881 - val_accuracy: 0.9806\n",
            "Epoch 27/30\n",
            "1719/1719 [==============================] - 3s 2ms/step - loss: 4.8900e-04 - accuracy: 1.0000 - val_loss: 0.0884 - val_accuracy: 0.9810\n",
            "Epoch 28/30\n",
            "1719/1719 [==============================] - 3s 2ms/step - loss: 4.4986e-04 - accuracy: 1.0000 - val_loss: 0.0894 - val_accuracy: 0.9806\n",
            "Epoch 29/30\n",
            "1719/1719 [==============================] - 3s 2ms/step - loss: 4.2746e-04 - accuracy: 1.0000 - val_loss: 0.0895 - val_accuracy: 0.9808\n",
            "Epoch 30/30\n",
            "1719/1719 [==============================] - 3s 2ms/step - loss: 4.0296e-04 - accuracy: 1.0000 - val_loss: 0.0898 - val_accuracy: 0.9804\n"
          ]
        }
      ]
    },
    {
      "cell_type": "markdown",
      "source": [
        "It looks like lowering the number of nodes of the first hidden layer by 200 did not have that large of an affect on the validation set.\n",
        "\n",
        "Let's try enlarging it (double) the size of the original."
      ],
      "metadata": {
        "id": "SVvmB4zTr-lt"
      }
    },
    {
      "cell_type": "code",
      "source": [
        "keras.backend.clear_session()\n",
        "np.random.seed(42)\n",
        "tf.random.set_seed(42)\n",
        "\n",
        "model = keras.models.Sequential()\n",
        "model.add(keras.layers.Flatten(input_shape=[28, 28]))\n",
        "model.add(keras.layers.Dense(600, activation=\"relu\")) # Make the first layer smaller\n",
        "model.add(keras.layers.Dense(100, activation=\"relu\"))\n",
        "model.add(keras.layers.Dense(10, activation=\"softmax\"))\n",
        "\n",
        "model.compile(loss=\"sparse_categorical_crossentropy\",\n",
        "              optimizer=keras.optimizers.SGD(learning_rate=0.1,momentum=0.0),\n",
        "              metrics=[\"accuracy\"])\n",
        "\n",
        "history = model.fit(X_train, y_train, \n",
        "                    epochs=30,\n",
        "                    batch_size=32, \n",
        "                    validation_data=(X_valid, y_valid))"
      ],
      "metadata": {
        "colab": {
          "base_uri": "https://localhost:8080/"
        },
        "id": "ZctdaUbEslYY",
        "outputId": "eed31f6a-5e9d-480f-89fd-fc7edc9ca1d1"
      },
      "execution_count": 93,
      "outputs": [
        {
          "output_type": "stream",
          "name": "stdout",
          "text": [
            "Epoch 1/30\n",
            "1719/1719 [==============================] - 7s 4ms/step - loss: 0.2569 - accuracy: 0.9231 - val_loss: 0.1178 - val_accuracy: 0.9652\n",
            "Epoch 2/30\n",
            "1719/1719 [==============================] - 7s 4ms/step - loss: 0.1002 - accuracy: 0.9701 - val_loss: 0.0907 - val_accuracy: 0.9744\n",
            "Epoch 3/30\n",
            "1719/1719 [==============================] - 7s 4ms/step - loss: 0.0653 - accuracy: 0.9804 - val_loss: 0.0678 - val_accuracy: 0.9806\n",
            "Epoch 4/30\n",
            "1719/1719 [==============================] - 7s 4ms/step - loss: 0.0455 - accuracy: 0.9856 - val_loss: 0.0692 - val_accuracy: 0.9790\n",
            "Epoch 5/30\n",
            "1719/1719 [==============================] - 7s 4ms/step - loss: 0.0322 - accuracy: 0.9902 - val_loss: 0.0672 - val_accuracy: 0.9800\n",
            "Epoch 6/30\n",
            "1719/1719 [==============================] - 7s 4ms/step - loss: 0.0229 - accuracy: 0.9930 - val_loss: 0.0619 - val_accuracy: 0.9828\n",
            "Epoch 7/30\n",
            "1719/1719 [==============================] - 7s 4ms/step - loss: 0.0163 - accuracy: 0.9954 - val_loss: 0.0626 - val_accuracy: 0.9832\n",
            "Epoch 8/30\n",
            "1719/1719 [==============================] - 7s 4ms/step - loss: 0.0101 - accuracy: 0.9976 - val_loss: 0.0621 - val_accuracy: 0.9836\n",
            "Epoch 9/30\n",
            "1719/1719 [==============================] - 7s 4ms/step - loss: 0.0075 - accuracy: 0.9982 - val_loss: 0.0638 - val_accuracy: 0.9832\n",
            "Epoch 10/30\n",
            "1719/1719 [==============================] - 7s 4ms/step - loss: 0.0045 - accuracy: 0.9991 - val_loss: 0.0623 - val_accuracy: 0.9836\n",
            "Epoch 11/30\n",
            "1719/1719 [==============================] - 7s 4ms/step - loss: 0.0029 - accuracy: 0.9997 - val_loss: 0.0641 - val_accuracy: 0.9844\n",
            "Epoch 12/30\n",
            "1719/1719 [==============================] - 7s 4ms/step - loss: 0.0019 - accuracy: 0.9998 - val_loss: 0.0617 - val_accuracy: 0.9846\n",
            "Epoch 13/30\n",
            "1719/1719 [==============================] - 7s 4ms/step - loss: 0.0014 - accuracy: 0.9999 - val_loss: 0.0634 - val_accuracy: 0.9840\n",
            "Epoch 14/30\n",
            "1719/1719 [==============================] - 8s 4ms/step - loss: 9.6999e-04 - accuracy: 1.0000 - val_loss: 0.0646 - val_accuracy: 0.9838\n",
            "Epoch 15/30\n",
            "1719/1719 [==============================] - 7s 4ms/step - loss: 8.4325e-04 - accuracy: 1.0000 - val_loss: 0.0655 - val_accuracy: 0.9842\n",
            "Epoch 16/30\n",
            "1719/1719 [==============================] - 7s 4ms/step - loss: 6.9729e-04 - accuracy: 1.0000 - val_loss: 0.0657 - val_accuracy: 0.9842\n",
            "Epoch 17/30\n",
            "1719/1719 [==============================] - 7s 4ms/step - loss: 6.2924e-04 - accuracy: 1.0000 - val_loss: 0.0671 - val_accuracy: 0.9842\n",
            "Epoch 18/30\n",
            "1719/1719 [==============================] - 7s 4ms/step - loss: 5.5857e-04 - accuracy: 1.0000 - val_loss: 0.0670 - val_accuracy: 0.9844\n",
            "Epoch 19/30\n",
            "1719/1719 [==============================] - 8s 4ms/step - loss: 5.1060e-04 - accuracy: 1.0000 - val_loss: 0.0672 - val_accuracy: 0.9840\n",
            "Epoch 20/30\n",
            "1719/1719 [==============================] - 8s 4ms/step - loss: 4.7161e-04 - accuracy: 1.0000 - val_loss: 0.0684 - val_accuracy: 0.9842\n",
            "Epoch 21/30\n",
            "1719/1719 [==============================] - 8s 4ms/step - loss: 4.4250e-04 - accuracy: 1.0000 - val_loss: 0.0686 - val_accuracy: 0.9844\n",
            "Epoch 22/30\n",
            "1719/1719 [==============================] - 7s 4ms/step - loss: 4.0691e-04 - accuracy: 1.0000 - val_loss: 0.0689 - val_accuracy: 0.9846\n",
            "Epoch 23/30\n",
            "1719/1719 [==============================] - 7s 4ms/step - loss: 3.7875e-04 - accuracy: 1.0000 - val_loss: 0.0698 - val_accuracy: 0.9840\n",
            "Epoch 24/30\n",
            "1719/1719 [==============================] - 7s 4ms/step - loss: 3.5484e-04 - accuracy: 1.0000 - val_loss: 0.0696 - val_accuracy: 0.9846\n",
            "Epoch 25/30\n",
            "1719/1719 [==============================] - 7s 4ms/step - loss: 3.3545e-04 - accuracy: 1.0000 - val_loss: 0.0698 - val_accuracy: 0.9846\n",
            "Epoch 26/30\n",
            "1719/1719 [==============================] - 7s 4ms/step - loss: 3.1735e-04 - accuracy: 1.0000 - val_loss: 0.0706 - val_accuracy: 0.9846\n",
            "Epoch 27/30\n",
            "1719/1719 [==============================] - 7s 4ms/step - loss: 3.0149e-04 - accuracy: 1.0000 - val_loss: 0.0704 - val_accuracy: 0.9846\n",
            "Epoch 28/30\n",
            "1719/1719 [==============================] - 7s 4ms/step - loss: 2.8500e-04 - accuracy: 1.0000 - val_loss: 0.0712 - val_accuracy: 0.9846\n",
            "Epoch 29/30\n",
            "1719/1719 [==============================] - 7s 4ms/step - loss: 2.7242e-04 - accuracy: 1.0000 - val_loss: 0.0717 - val_accuracy: 0.9846\n",
            "Epoch 30/30\n",
            "1719/1719 [==============================] - 7s 4ms/step - loss: 2.6056e-04 - accuracy: 1.0000 - val_loss: 0.0715 - val_accuracy: 0.9848\n"
          ]
        }
      ]
    },
    {
      "cell_type": "markdown",
      "source": [
        "This did not have any effect.\n",
        "\n",
        "Now, let's try various activation functions for the hidden layers.\n",
        "\n",
        "First, LeakyReLu:"
      ],
      "metadata": {
        "id": "X1j1Yo4cvB_n"
      }
    },
    {
      "cell_type": "code",
      "source": [
        "keras.backend.clear_session()\n",
        "np.random.seed(42)\n",
        "tf.random.set_seed(42)\n",
        "\n",
        "model = keras.models.Sequential()\n",
        "model.add(keras.layers.Flatten(input_shape=[28, 28]))\n",
        "model.add(keras.layers.Dense(300, activation=\"LeakyReLU\"))\n",
        "model.add(keras.layers.Dense(100, activation=\"LeakyReLU\"))\n",
        "model.add(keras.layers.Dense(10, activation=\"softmax\"))\n",
        "\n",
        "model.compile(loss=\"sparse_categorical_crossentropy\",\n",
        "              optimizer=keras.optimizers.SGD(learning_rate=0.1,momentum=0.0),\n",
        "              metrics=[\"accuracy\"])\n",
        "\n",
        "history = model.fit(X_train, y_train, \n",
        "                    epochs=30,\n",
        "                    batch_size=32, \n",
        "                    validation_data=(X_valid, y_valid))"
      ],
      "metadata": {
        "colab": {
          "base_uri": "https://localhost:8080/"
        },
        "id": "J3QOFEG3vqYh",
        "outputId": "41b07071-21a0-432d-b356-7cc310991e1f"
      },
      "execution_count": 94,
      "outputs": [
        {
          "output_type": "stream",
          "name": "stdout",
          "text": [
            "Epoch 1/30\n",
            "1719/1719 [==============================] - 6s 3ms/step - loss: 0.2992 - accuracy: 0.9108 - val_loss: 0.1584 - val_accuracy: 0.9566\n",
            "Epoch 2/30\n",
            "1719/1719 [==============================] - 5s 3ms/step - loss: 0.1442 - accuracy: 0.9568 - val_loss: 0.1179 - val_accuracy: 0.9642\n",
            "Epoch 3/30\n",
            "1719/1719 [==============================] - 5s 3ms/step - loss: 0.1062 - accuracy: 0.9676 - val_loss: 0.0915 - val_accuracy: 0.9736\n",
            "Epoch 4/30\n",
            "1719/1719 [==============================] - 5s 3ms/step - loss: 0.0820 - accuracy: 0.9743 - val_loss: 0.0954 - val_accuracy: 0.9698\n",
            "Epoch 5/30\n",
            "1719/1719 [==============================] - 5s 3ms/step - loss: 0.0673 - accuracy: 0.9793 - val_loss: 0.0915 - val_accuracy: 0.9742\n",
            "Epoch 6/30\n",
            "1719/1719 [==============================] - 5s 3ms/step - loss: 0.0558 - accuracy: 0.9814 - val_loss: 0.0712 - val_accuracy: 0.9804\n",
            "Epoch 7/30\n",
            "1719/1719 [==============================] - 5s 3ms/step - loss: 0.0466 - accuracy: 0.9855 - val_loss: 0.0857 - val_accuracy: 0.9758\n",
            "Epoch 8/30\n",
            "1719/1719 [==============================] - 5s 3ms/step - loss: 0.0401 - accuracy: 0.9869 - val_loss: 0.0797 - val_accuracy: 0.9788\n",
            "Epoch 9/30\n",
            "1719/1719 [==============================] - 5s 3ms/step - loss: 0.0340 - accuracy: 0.9893 - val_loss: 0.0698 - val_accuracy: 0.9818\n",
            "Epoch 10/30\n",
            "1719/1719 [==============================] - 5s 3ms/step - loss: 0.0285 - accuracy: 0.9904 - val_loss: 0.0688 - val_accuracy: 0.9804\n",
            "Epoch 11/30\n",
            "1719/1719 [==============================] - 5s 3ms/step - loss: 0.0244 - accuracy: 0.9919 - val_loss: 0.0748 - val_accuracy: 0.9792\n",
            "Epoch 12/30\n",
            "1719/1719 [==============================] - 5s 3ms/step - loss: 0.0214 - accuracy: 0.9933 - val_loss: 0.1053 - val_accuracy: 0.9720\n",
            "Epoch 13/30\n",
            "1719/1719 [==============================] - 5s 3ms/step - loss: 0.0184 - accuracy: 0.9943 - val_loss: 0.0902 - val_accuracy: 0.9768\n",
            "Epoch 14/30\n",
            "1719/1719 [==============================] - 5s 3ms/step - loss: 0.0132 - accuracy: 0.9960 - val_loss: 0.0725 - val_accuracy: 0.9824\n",
            "Epoch 15/30\n",
            "1719/1719 [==============================] - 5s 3ms/step - loss: 0.0115 - accuracy: 0.9967 - val_loss: 0.0910 - val_accuracy: 0.9774\n",
            "Epoch 16/30\n",
            "1719/1719 [==============================] - 5s 3ms/step - loss: 0.0096 - accuracy: 0.9973 - val_loss: 0.0777 - val_accuracy: 0.9814\n",
            "Epoch 17/30\n",
            "1719/1719 [==============================] - 5s 3ms/step - loss: 0.0090 - accuracy: 0.9975 - val_loss: 0.0786 - val_accuracy: 0.9806\n",
            "Epoch 18/30\n",
            "1719/1719 [==============================] - 5s 3ms/step - loss: 0.0057 - accuracy: 0.9987 - val_loss: 0.0804 - val_accuracy: 0.9796\n",
            "Epoch 19/30\n",
            "1719/1719 [==============================] - 5s 3ms/step - loss: 0.0048 - accuracy: 0.9990 - val_loss: 0.0761 - val_accuracy: 0.9828\n",
            "Epoch 20/30\n",
            "1719/1719 [==============================] - 5s 3ms/step - loss: 0.0024 - accuracy: 0.9997 - val_loss: 0.0783 - val_accuracy: 0.9824\n",
            "Epoch 21/30\n",
            "1719/1719 [==============================] - 5s 3ms/step - loss: 0.0019 - accuracy: 0.9999 - val_loss: 0.0765 - val_accuracy: 0.9828\n",
            "Epoch 22/30\n",
            "1719/1719 [==============================] - 5s 3ms/step - loss: 0.0012 - accuracy: 1.0000 - val_loss: 0.0790 - val_accuracy: 0.9830\n",
            "Epoch 23/30\n",
            "1719/1719 [==============================] - 5s 3ms/step - loss: 9.6864e-04 - accuracy: 1.0000 - val_loss: 0.0784 - val_accuracy: 0.9830\n",
            "Epoch 24/30\n",
            "1719/1719 [==============================] - 5s 3ms/step - loss: 8.1786e-04 - accuracy: 1.0000 - val_loss: 0.0783 - val_accuracy: 0.9824\n",
            "Epoch 25/30\n",
            "1719/1719 [==============================] - 5s 3ms/step - loss: 7.3109e-04 - accuracy: 1.0000 - val_loss: 0.0781 - val_accuracy: 0.9828\n",
            "Epoch 26/30\n",
            "1719/1719 [==============================] - 5s 3ms/step - loss: 6.6386e-04 - accuracy: 1.0000 - val_loss: 0.0801 - val_accuracy: 0.9824\n",
            "Epoch 27/30\n",
            "1719/1719 [==============================] - 5s 3ms/step - loss: 6.1474e-04 - accuracy: 1.0000 - val_loss: 0.0796 - val_accuracy: 0.9828\n",
            "Epoch 28/30\n",
            "1719/1719 [==============================] - 5s 3ms/step - loss: 5.6355e-04 - accuracy: 1.0000 - val_loss: 0.0812 - val_accuracy: 0.9824\n",
            "Epoch 29/30\n",
            "1719/1719 [==============================] - 5s 3ms/step - loss: 5.2879e-04 - accuracy: 1.0000 - val_loss: 0.0815 - val_accuracy: 0.9828\n",
            "Epoch 30/30\n",
            "1719/1719 [==============================] - 5s 3ms/step - loss: 5.0733e-04 - accuracy: 1.0000 - val_loss: 0.0815 - val_accuracy: 0.9828\n"
          ]
        }
      ]
    },
    {
      "cell_type": "markdown",
      "source": [
        "This had slightly worse performance.\n",
        "\n",
        "Next, PReLU:"
      ],
      "metadata": {
        "id": "tBwsHTJuSOfg"
      }
    },
    {
      "cell_type": "code",
      "source": [
        "keras.backend.clear_session()\n",
        "np.random.seed(42)\n",
        "tf.random.set_seed(42)\n",
        "\n",
        "model = keras.models.Sequential()\n",
        "model.add(keras.layers.Flatten(input_shape=[28, 28]))\n",
        "model.add(keras.layers.Dense(300, activation=\"PReLU\"))\n",
        "model.add(keras.layers.Dense(100, activation=\"PReLU\"))\n",
        "model.add(keras.layers.Dense(10, activation=\"softmax\"))\n",
        "\n",
        "model.compile(loss=\"sparse_categorical_crossentropy\",\n",
        "              optimizer=keras.optimizers.SGD(learning_rate=0.1,momentum=0.0),\n",
        "              metrics=[\"accuracy\"])\n",
        "\n",
        "history = model.fit(X_train, y_train, \n",
        "                    epochs=30,\n",
        "                    batch_size=32, \n",
        "                    validation_data=(X_valid, y_valid))"
      ],
      "metadata": {
        "colab": {
          "base_uri": "https://localhost:8080/"
        },
        "id": "Pr2mJQ7uDIDN",
        "outputId": "c5151ee9-e49a-4178-bcad-c07a953165cc"
      },
      "execution_count": 95,
      "outputs": [
        {
          "output_type": "stream",
          "name": "stdout",
          "text": [
            "Epoch 1/30\n",
            "1719/1719 [==============================] - 6s 3ms/step - loss: 0.2741 - accuracy: 0.9184 - val_loss: 0.1277 - val_accuracy: 0.9642\n",
            "Epoch 2/30\n",
            "1719/1719 [==============================] - 6s 3ms/step - loss: 0.1087 - accuracy: 0.9679 - val_loss: 0.0935 - val_accuracy: 0.9742\n",
            "Epoch 3/30\n",
            "1719/1719 [==============================] - 6s 3ms/step - loss: 0.0730 - accuracy: 0.9773 - val_loss: 0.0760 - val_accuracy: 0.9802\n",
            "Epoch 4/30\n",
            "1719/1719 [==============================] - 6s 3ms/step - loss: 0.0515 - accuracy: 0.9839 - val_loss: 0.0742 - val_accuracy: 0.9786\n",
            "Epoch 5/30\n",
            "1719/1719 [==============================] - 6s 3ms/step - loss: 0.0383 - accuracy: 0.9881 - val_loss: 0.0720 - val_accuracy: 0.9812\n",
            "Epoch 6/30\n",
            "1719/1719 [==============================] - 6s 3ms/step - loss: 0.0274 - accuracy: 0.9915 - val_loss: 0.0675 - val_accuracy: 0.9840\n",
            "Epoch 7/30\n",
            "1719/1719 [==============================] - 6s 3ms/step - loss: 0.0201 - accuracy: 0.9938 - val_loss: 0.0731 - val_accuracy: 0.9822\n",
            "Epoch 8/30\n",
            "1719/1719 [==============================] - 6s 3ms/step - loss: 0.0131 - accuracy: 0.9966 - val_loss: 0.0751 - val_accuracy: 0.9824\n",
            "Epoch 9/30\n",
            "1719/1719 [==============================] - 6s 3ms/step - loss: 0.0097 - accuracy: 0.9975 - val_loss: 0.0676 - val_accuracy: 0.9834\n",
            "Epoch 10/30\n",
            "1719/1719 [==============================] - 6s 3ms/step - loss: 0.0063 - accuracy: 0.9986 - val_loss: 0.0657 - val_accuracy: 0.9846\n",
            "Epoch 11/30\n",
            "1719/1719 [==============================] - 5s 3ms/step - loss: 0.0034 - accuracy: 0.9996 - val_loss: 0.0654 - val_accuracy: 0.9854\n",
            "Epoch 12/30\n",
            "1719/1719 [==============================] - 5s 3ms/step - loss: 0.0019 - accuracy: 0.9998 - val_loss: 0.0660 - val_accuracy: 0.9856\n",
            "Epoch 13/30\n",
            "1719/1719 [==============================] - 5s 3ms/step - loss: 0.0013 - accuracy: 1.0000 - val_loss: 0.0672 - val_accuracy: 0.9854\n",
            "Epoch 14/30\n",
            "1719/1719 [==============================] - 5s 3ms/step - loss: 9.2360e-04 - accuracy: 1.0000 - val_loss: 0.0699 - val_accuracy: 0.9856\n",
            "Epoch 15/30\n",
            "1719/1719 [==============================] - 5s 3ms/step - loss: 7.9147e-04 - accuracy: 1.0000 - val_loss: 0.0692 - val_accuracy: 0.9858\n",
            "Epoch 16/30\n",
            "1719/1719 [==============================] - 5s 3ms/step - loss: 6.3194e-04 - accuracy: 1.0000 - val_loss: 0.0699 - val_accuracy: 0.9854\n",
            "Epoch 17/30\n",
            "1719/1719 [==============================] - 6s 3ms/step - loss: 5.6096e-04 - accuracy: 1.0000 - val_loss: 0.0711 - val_accuracy: 0.9852\n",
            "Epoch 18/30\n",
            "1719/1719 [==============================] - 5s 3ms/step - loss: 4.9841e-04 - accuracy: 1.0000 - val_loss: 0.0719 - val_accuracy: 0.9852\n",
            "Epoch 19/30\n",
            "1719/1719 [==============================] - 5s 3ms/step - loss: 4.5474e-04 - accuracy: 1.0000 - val_loss: 0.0716 - val_accuracy: 0.9852\n",
            "Epoch 20/30\n",
            "1719/1719 [==============================] - 5s 3ms/step - loss: 4.1945e-04 - accuracy: 1.0000 - val_loss: 0.0722 - val_accuracy: 0.9852\n",
            "Epoch 21/30\n",
            "1719/1719 [==============================] - 5s 3ms/step - loss: 3.9009e-04 - accuracy: 1.0000 - val_loss: 0.0723 - val_accuracy: 0.9850\n",
            "Epoch 22/30\n",
            "1719/1719 [==============================] - 5s 3ms/step - loss: 3.6097e-04 - accuracy: 1.0000 - val_loss: 0.0733 - val_accuracy: 0.9856\n",
            "Epoch 23/30\n",
            "1719/1719 [==============================] - 5s 3ms/step - loss: 3.3668e-04 - accuracy: 1.0000 - val_loss: 0.0738 - val_accuracy: 0.9858\n",
            "Epoch 24/30\n",
            "1719/1719 [==============================] - 5s 3ms/step - loss: 3.1478e-04 - accuracy: 1.0000 - val_loss: 0.0747 - val_accuracy: 0.9854\n",
            "Epoch 25/30\n",
            "1719/1719 [==============================] - 5s 3ms/step - loss: 2.9616e-04 - accuracy: 1.0000 - val_loss: 0.0744 - val_accuracy: 0.9858\n",
            "Epoch 26/30\n",
            "1719/1719 [==============================] - 5s 3ms/step - loss: 2.8121e-04 - accuracy: 1.0000 - val_loss: 0.0749 - val_accuracy: 0.9852\n",
            "Epoch 27/30\n",
            "1719/1719 [==============================] - 5s 3ms/step - loss: 2.6621e-04 - accuracy: 1.0000 - val_loss: 0.0750 - val_accuracy: 0.9852\n",
            "Epoch 28/30\n",
            "1719/1719 [==============================] - 5s 3ms/step - loss: 2.5169e-04 - accuracy: 1.0000 - val_loss: 0.0759 - val_accuracy: 0.9852\n",
            "Epoch 29/30\n",
            "1719/1719 [==============================] - 5s 3ms/step - loss: 2.4009e-04 - accuracy: 1.0000 - val_loss: 0.0760 - val_accuracy: 0.9852\n",
            "Epoch 30/30\n",
            "1719/1719 [==============================] - 5s 3ms/step - loss: 2.2875e-04 - accuracy: 1.0000 - val_loss: 0.0762 - val_accuracy: 0.9856\n"
          ]
        }
      ]
    },
    {
      "cell_type": "markdown",
      "source": [
        "No notable improvement here.\n",
        "\n",
        "Now let's try ELU:"
      ],
      "metadata": {
        "id": "KpNjbiEeSUsB"
      }
    },
    {
      "cell_type": "code",
      "source": [
        "keras.backend.clear_session()\n",
        "np.random.seed(42)\n",
        "tf.random.set_seed(42)\n",
        "\n",
        "model = keras.models.Sequential()\n",
        "model.add(keras.layers.Flatten(input_shape=[28, 28]))\n",
        "model.add(keras.layers.Dense(300, activation=\"ELU\"))\n",
        "model.add(keras.layers.Dense(100, activation=\"ELU\"))\n",
        "model.add(keras.layers.Dense(10, activation=\"softmax\"))\n",
        "\n",
        "model.compile(loss=\"sparse_categorical_crossentropy\",\n",
        "              optimizer=keras.optimizers.SGD(learning_rate=0.1,momentum=0.0),\n",
        "              metrics=[\"accuracy\"])\n",
        "\n",
        "history = model.fit(X_train, y_train, \n",
        "                    epochs=30,\n",
        "                    batch_size=32, \n",
        "                    validation_data=(X_valid, y_valid))"
      ],
      "metadata": {
        "colab": {
          "base_uri": "https://localhost:8080/"
        },
        "id": "69jysNHbDLVR",
        "outputId": "cfe4a7c3-aefb-4fff-b1ac-1f2c851f518e"
      },
      "execution_count": 96,
      "outputs": [
        {
          "output_type": "stream",
          "name": "stdout",
          "text": [
            "Epoch 1/30\n",
            "1719/1719 [==============================] - 5s 3ms/step - loss: 0.3018 - accuracy: 0.9100 - val_loss: 0.1654 - val_accuracy: 0.9558\n",
            "Epoch 2/30\n",
            "1719/1719 [==============================] - 5s 3ms/step - loss: 0.1440 - accuracy: 0.9568 - val_loss: 0.1195 - val_accuracy: 0.9650\n",
            "Epoch 3/30\n",
            "1719/1719 [==============================] - 5s 3ms/step - loss: 0.1034 - accuracy: 0.9683 - val_loss: 0.0876 - val_accuracy: 0.9764\n",
            "Epoch 4/30\n",
            "1719/1719 [==============================] - 5s 3ms/step - loss: 0.0784 - accuracy: 0.9758 - val_loss: 0.0809 - val_accuracy: 0.9772\n",
            "Epoch 5/30\n",
            "1719/1719 [==============================] - 5s 3ms/step - loss: 0.0638 - accuracy: 0.9799 - val_loss: 0.0786 - val_accuracy: 0.9780\n",
            "Epoch 6/30\n",
            "1719/1719 [==============================] - 5s 3ms/step - loss: 0.0522 - accuracy: 0.9830 - val_loss: 0.0693 - val_accuracy: 0.9798\n",
            "Epoch 7/30\n",
            "1719/1719 [==============================] - 5s 3ms/step - loss: 0.0436 - accuracy: 0.9856 - val_loss: 0.0796 - val_accuracy: 0.9792\n",
            "Epoch 8/30\n",
            "1719/1719 [==============================] - 5s 3ms/step - loss: 0.0366 - accuracy: 0.9881 - val_loss: 0.0797 - val_accuracy: 0.9794\n",
            "Epoch 9/30\n",
            "1719/1719 [==============================] - 5s 3ms/step - loss: 0.0310 - accuracy: 0.9905 - val_loss: 0.0689 - val_accuracy: 0.9808\n",
            "Epoch 10/30\n",
            "1719/1719 [==============================] - 5s 3ms/step - loss: 0.0259 - accuracy: 0.9917 - val_loss: 0.0663 - val_accuracy: 0.9810\n",
            "Epoch 11/30\n",
            "1719/1719 [==============================] - 5s 3ms/step - loss: 0.0208 - accuracy: 0.9939 - val_loss: 0.0670 - val_accuracy: 0.9820\n",
            "Epoch 12/30\n",
            "1719/1719 [==============================] - 5s 3ms/step - loss: 0.0178 - accuracy: 0.9948 - val_loss: 0.0747 - val_accuracy: 0.9802\n",
            "Epoch 13/30\n",
            "1719/1719 [==============================] - 5s 3ms/step - loss: 0.0150 - accuracy: 0.9955 - val_loss: 0.0802 - val_accuracy: 0.9790\n",
            "Epoch 14/30\n",
            "1719/1719 [==============================] - 5s 3ms/step - loss: 0.0114 - accuracy: 0.9974 - val_loss: 0.0717 - val_accuracy: 0.9816\n",
            "Epoch 15/30\n",
            "1719/1719 [==============================] - 5s 3ms/step - loss: 0.0096 - accuracy: 0.9977 - val_loss: 0.0754 - val_accuracy: 0.9812\n",
            "Epoch 16/30\n",
            "1719/1719 [==============================] - 5s 3ms/step - loss: 0.0068 - accuracy: 0.9987 - val_loss: 0.0734 - val_accuracy: 0.9824\n",
            "Epoch 17/30\n",
            "1719/1719 [==============================] - 5s 3ms/step - loss: 0.0056 - accuracy: 0.9990 - val_loss: 0.0749 - val_accuracy: 0.9834\n",
            "Epoch 18/30\n",
            "1719/1719 [==============================] - 5s 3ms/step - loss: 0.0041 - accuracy: 0.9994 - val_loss: 0.0750 - val_accuracy: 0.9818\n",
            "Epoch 19/30\n",
            "1719/1719 [==============================] - 5s 3ms/step - loss: 0.0033 - accuracy: 0.9995 - val_loss: 0.0789 - val_accuracy: 0.9832\n",
            "Epoch 20/30\n",
            "1719/1719 [==============================] - 5s 3ms/step - loss: 0.0028 - accuracy: 0.9996 - val_loss: 0.0811 - val_accuracy: 0.9824\n",
            "Epoch 21/30\n",
            "1719/1719 [==============================] - 5s 3ms/step - loss: 0.0024 - accuracy: 0.9997 - val_loss: 0.0792 - val_accuracy: 0.9826\n",
            "Epoch 22/30\n",
            "1719/1719 [==============================] - 5s 3ms/step - loss: 0.0017 - accuracy: 0.9999 - val_loss: 0.0804 - val_accuracy: 0.9836\n",
            "Epoch 23/30\n",
            "1719/1719 [==============================] - 5s 3ms/step - loss: 0.0016 - accuracy: 0.9999 - val_loss: 0.0834 - val_accuracy: 0.9828\n",
            "Epoch 24/30\n",
            "1719/1719 [==============================] - 5s 3ms/step - loss: 0.0012 - accuracy: 1.0000 - val_loss: 0.0821 - val_accuracy: 0.9828\n",
            "Epoch 25/30\n",
            "1719/1719 [==============================] - 5s 3ms/step - loss: 0.0011 - accuracy: 1.0000 - val_loss: 0.0812 - val_accuracy: 0.9834\n",
            "Epoch 26/30\n",
            "1719/1719 [==============================] - 5s 3ms/step - loss: 0.0010 - accuracy: 1.0000 - val_loss: 0.0849 - val_accuracy: 0.9828\n",
            "Epoch 27/30\n",
            "1719/1719 [==============================] - 5s 3ms/step - loss: 9.0481e-04 - accuracy: 1.0000 - val_loss: 0.0833 - val_accuracy: 0.9832\n",
            "Epoch 28/30\n",
            "1719/1719 [==============================] - 5s 3ms/step - loss: 8.1451e-04 - accuracy: 1.0000 - val_loss: 0.0857 - val_accuracy: 0.9828\n",
            "Epoch 29/30\n",
            "1719/1719 [==============================] - 5s 3ms/step - loss: 8.1622e-04 - accuracy: 1.0000 - val_loss: 0.0855 - val_accuracy: 0.9828\n",
            "Epoch 30/30\n",
            "1719/1719 [==============================] - 5s 3ms/step - loss: 7.5761e-04 - accuracy: 1.0000 - val_loss: 0.0858 - val_accuracy: 0.9834\n"
          ]
        }
      ]
    },
    {
      "cell_type": "markdown",
      "source": [
        "Slightly worse here.\n",
        "\n",
        "As I suspected, once we hit a test accuracy of 1.0, it would be hard for the neural network to improve itself for the validation set. There is going to be a maximum performance that is dependent on many factors, including the amount and variation of handwriting within the training set.\n",
        "\n",
        "Let's retrain the neural network back to the standard \"relu\" with learning rate 0.1:"
      ],
      "metadata": {
        "id": "PcaDi4HcSdrE"
      }
    },
    {
      "cell_type": "code",
      "source": [
        "keras.backend.clear_session()\n",
        "np.random.seed(42)\n",
        "tf.random.set_seed(42)\n",
        "\n",
        "model = keras.models.Sequential()\n",
        "model.add(keras.layers.Flatten(input_shape=[28, 28]))\n",
        "model.add(keras.layers.Dense(300, activation=\"relu\"))\n",
        "model.add(keras.layers.Dense(100, activation=\"relu\"))\n",
        "model.add(keras.layers.Dense(10, activation=\"softmax\"))\n",
        "\n",
        "model.compile(loss=\"sparse_categorical_crossentropy\",\n",
        "              optimizer=keras.optimizers.SGD(learning_rate=0.1,momentum=0.0),\n",
        "              metrics=[\"accuracy\"])\n",
        "\n",
        "history = model.fit(X_train, y_train, \n",
        "                    epochs=30,\n",
        "                    batch_size=32, \n",
        "                    validation_data=(X_valid, y_valid))"
      ],
      "metadata": {
        "colab": {
          "base_uri": "https://localhost:8080/"
        },
        "id": "XlMu1UXz_IKR",
        "outputId": "33b1bd09-12c3-49aa-e934-a181a87e5714"
      },
      "execution_count": 97,
      "outputs": [
        {
          "output_type": "stream",
          "name": "stdout",
          "text": [
            "Epoch 1/30\n",
            "1719/1719 [==============================] - 6s 3ms/step - loss: 0.2754 - accuracy: 0.9183 - val_loss: 0.1283 - val_accuracy: 0.9648\n",
            "Epoch 2/30\n",
            "1719/1719 [==============================] - 5s 3ms/step - loss: 0.1116 - accuracy: 0.9663 - val_loss: 0.0967 - val_accuracy: 0.9710\n",
            "Epoch 3/30\n",
            "1719/1719 [==============================] - 5s 3ms/step - loss: 0.0759 - accuracy: 0.9765 - val_loss: 0.0770 - val_accuracy: 0.9786\n",
            "Epoch 4/30\n",
            "1719/1719 [==============================] - 5s 3ms/step - loss: 0.0543 - accuracy: 0.9830 - val_loss: 0.0776 - val_accuracy: 0.9774\n",
            "Epoch 5/30\n",
            "1719/1719 [==============================] - 5s 3ms/step - loss: 0.0408 - accuracy: 0.9874 - val_loss: 0.0731 - val_accuracy: 0.9796\n",
            "Epoch 6/30\n",
            "1719/1719 [==============================] - 5s 3ms/step - loss: 0.0305 - accuracy: 0.9904 - val_loss: 0.0649 - val_accuracy: 0.9820\n",
            "Epoch 7/30\n",
            "1719/1719 [==============================] - 5s 3ms/step - loss: 0.0228 - accuracy: 0.9931 - val_loss: 0.0707 - val_accuracy: 0.9812\n",
            "Epoch 8/30\n",
            "1719/1719 [==============================] - 5s 3ms/step - loss: 0.0165 - accuracy: 0.9953 - val_loss: 0.0706 - val_accuracy: 0.9812\n",
            "Epoch 9/30\n",
            "1719/1719 [==============================] - 5s 3ms/step - loss: 0.0115 - accuracy: 0.9970 - val_loss: 0.0713 - val_accuracy: 0.9836\n",
            "Epoch 10/30\n",
            "1719/1719 [==============================] - 5s 3ms/step - loss: 0.0073 - accuracy: 0.9985 - val_loss: 0.0659 - val_accuracy: 0.9838\n",
            "Epoch 11/30\n",
            "1719/1719 [==============================] - 5s 3ms/step - loss: 0.0047 - accuracy: 0.9994 - val_loss: 0.0677 - val_accuracy: 0.9858\n",
            "Epoch 12/30\n",
            "1719/1719 [==============================] - 5s 3ms/step - loss: 0.0031 - accuracy: 0.9996 - val_loss: 0.0667 - val_accuracy: 0.9840\n",
            "Epoch 13/30\n",
            "1719/1719 [==============================] - 5s 3ms/step - loss: 0.0024 - accuracy: 0.9997 - val_loss: 0.0689 - val_accuracy: 0.9842\n",
            "Epoch 14/30\n",
            "1719/1719 [==============================] - 5s 3ms/step - loss: 0.0015 - accuracy: 1.0000 - val_loss: 0.0712 - val_accuracy: 0.9850\n",
            "Epoch 15/30\n",
            "1719/1719 [==============================] - 5s 3ms/step - loss: 0.0012 - accuracy: 1.0000 - val_loss: 0.0705 - val_accuracy: 0.9848\n",
            "Epoch 16/30\n",
            "1719/1719 [==============================] - 5s 3ms/step - loss: 9.1602e-04 - accuracy: 1.0000 - val_loss: 0.0709 - val_accuracy: 0.9858\n",
            "Epoch 17/30\n",
            "1719/1719 [==============================] - 5s 3ms/step - loss: 8.0444e-04 - accuracy: 1.0000 - val_loss: 0.0726 - val_accuracy: 0.9848\n",
            "Epoch 18/30\n",
            "1719/1719 [==============================] - 5s 3ms/step - loss: 6.8542e-04 - accuracy: 1.0000 - val_loss: 0.0727 - val_accuracy: 0.9850\n",
            "Epoch 19/30\n",
            "1719/1719 [==============================] - 5s 3ms/step - loss: 6.2194e-04 - accuracy: 1.0000 - val_loss: 0.0733 - val_accuracy: 0.9848\n",
            "Epoch 20/30\n",
            "1719/1719 [==============================] - 5s 3ms/step - loss: 5.6758e-04 - accuracy: 1.0000 - val_loss: 0.0740 - val_accuracy: 0.9852\n",
            "Epoch 21/30\n",
            "1719/1719 [==============================] - 5s 3ms/step - loss: 5.2889e-04 - accuracy: 1.0000 - val_loss: 0.0742 - val_accuracy: 0.9854\n",
            "Epoch 22/30\n",
            "1719/1719 [==============================] - 5s 3ms/step - loss: 4.8274e-04 - accuracy: 1.0000 - val_loss: 0.0751 - val_accuracy: 0.9848\n",
            "Epoch 23/30\n",
            "1719/1719 [==============================] - 5s 3ms/step - loss: 4.4615e-04 - accuracy: 1.0000 - val_loss: 0.0757 - val_accuracy: 0.9854\n",
            "Epoch 24/30\n",
            "1719/1719 [==============================] - 5s 3ms/step - loss: 4.1423e-04 - accuracy: 1.0000 - val_loss: 0.0764 - val_accuracy: 0.9856\n",
            "Epoch 25/30\n",
            "1719/1719 [==============================] - 5s 3ms/step - loss: 3.9045e-04 - accuracy: 1.0000 - val_loss: 0.0759 - val_accuracy: 0.9852\n",
            "Epoch 26/30\n",
            "1719/1719 [==============================] - 5s 3ms/step - loss: 3.6856e-04 - accuracy: 1.0000 - val_loss: 0.0767 - val_accuracy: 0.9860\n",
            "Epoch 27/30\n",
            "1719/1719 [==============================] - 5s 3ms/step - loss: 3.4880e-04 - accuracy: 1.0000 - val_loss: 0.0768 - val_accuracy: 0.9854\n",
            "Epoch 28/30\n",
            "1719/1719 [==============================] - 5s 3ms/step - loss: 3.2780e-04 - accuracy: 1.0000 - val_loss: 0.0775 - val_accuracy: 0.9852\n",
            "Epoch 29/30\n",
            "1719/1719 [==============================] - 5s 3ms/step - loss: 3.1168e-04 - accuracy: 1.0000 - val_loss: 0.0778 - val_accuracy: 0.9854\n",
            "Epoch 30/30\n",
            "1719/1719 [==============================] - 5s 3ms/step - loss: 2.9754e-04 - accuracy: 1.0000 - val_loss: 0.0781 - val_accuracy: 0.9850\n"
          ]
        }
      ]
    },
    {
      "cell_type": "markdown",
      "source": [
        "For fun, let's look at that first weird looking \"7\" to see if it was able to classify it correctly."
      ],
      "metadata": {
        "id": "bc1v3AwFB6bf"
      }
    },
    {
      "cell_type": "code",
      "source": [
        "X_First = X_test[:1]\n",
        "y_pred = model.predict(X_First)\n",
        "pred = np.argmax(y_pred,axis=1)\n",
        "pred"
      ],
      "metadata": {
        "colab": {
          "base_uri": "https://localhost:8080/"
        },
        "id": "SlSy04fwB69T",
        "outputId": "fdb64e9d-5d57-4fec-afbf-9090c9367187"
      },
      "execution_count": 98,
      "outputs": [
        {
          "output_type": "execute_result",
          "data": {
            "text/plain": [
              "array([7])"
            ]
          },
          "metadata": {},
          "execution_count": 98
        }
      ]
    },
    {
      "cell_type": "markdown",
      "source": [
        "So, it worked for that first weird looking 7 (that could have been easily mistaken for a 3), interesting."
      ],
      "metadata": {
        "id": "X9nWnYfCCg4m"
      }
    },
    {
      "cell_type": "markdown",
      "source": [
        "Now for the fun part, evaluate against the test set!"
      ],
      "metadata": {
        "id": "mRWwdq1Jh02A"
      }
    },
    {
      "cell_type": "code",
      "source": [
        "test_result = model.evaluate(X_test, y_test)"
      ],
      "metadata": {
        "colab": {
          "base_uri": "https://localhost:8080/"
        },
        "id": "927fh2OjiG0W",
        "outputId": "923af616-33c2-40dc-af77-05bb48bde55b"
      },
      "execution_count": 99,
      "outputs": [
        {
          "output_type": "stream",
          "name": "stdout",
          "text": [
            "313/313 [==============================] - 1s 2ms/step - loss: 0.0714 - accuracy: 0.9832\n"
          ]
        }
      ]
    },
    {
      "cell_type": "markdown",
      "source": [
        "**Accuracy Statement:**\n",
        "\n",
        "The best accuracy I was able to achieve for the test data was 98.32% accuracy."
      ],
      "metadata": {
        "id": "hTt7lCc_A2Q0"
      }
    }
  ],
  "metadata": {
    "kernelspec": {
      "display_name": "Python 3",
      "language": "python",
      "name": "python3"
    },
    "language_info": {
      "codemirror_mode": {
        "name": "ipython",
        "version": 3
      },
      "file_extension": ".py",
      "mimetype": "text/x-python",
      "name": "python",
      "nbconvert_exporter": "python",
      "pygments_lexer": "ipython3",
      "version": "3.8.5"
    },
    "colab": {
      "name": "Assignment5-PartB.ipynb",
      "provenance": []
    }
  },
  "nbformat": 4,
  "nbformat_minor": 0
}